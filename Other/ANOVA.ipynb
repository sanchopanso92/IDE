{
 "cells": [
  {
   "cell_type": "code",
   "execution_count": 17,
   "metadata": {},
   "outputs": [
    {
     "data": {
      "image/png": "[encoded data removed]",
      "text/plain": [
       "<Figure size 640x480 with 1 Axes>"
      ]
     },
     "metadata": {},
     "output_type": "display_data"
    },
    {
     "data": {
      "text/html": [
       "<div>\n",
       "<style scoped>\n",
       "    .dataframe tbody tr th:only-of-type {\n",
       "        vertical-align: middle;\n",
       "    }\n",
       "\n",
       "    .dataframe tbody tr th {\n",
       "        vertical-align: top;\n",
       "    }\n",
       "\n",
       "    .dataframe thead th {\n",
       "        text-align: right;\n",
       "    }\n",
       "</style>\n",
       "<table border=\"1\" class=\"dataframe\">\n",
       "  <thead>\n",
       "    <tr style=\"text-align: right;\">\n",
       "      <th></th>\n",
       "      <th>Source</th>\n",
       "      <th>SS</th>\n",
       "      <th>DF</th>\n",
       "      <th>MS</th>\n",
       "      <th>F</th>\n",
       "      <th>p-unc</th>\n",
       "      <th>np2</th>\n",
       "    </tr>\n",
       "  </thead>\n",
       "  <tbody>\n",
       "    <tr>\n",
       "      <th>0</th>\n",
       "      <td>age</td>\n",
       "      <td>197.452754</td>\n",
       "      <td>1</td>\n",
       "      <td>197.452754</td>\n",
       "      <td>7.449841</td>\n",
       "      <td>0.008313</td>\n",
       "      <td>0.110450</td>\n",
       "    </tr>\n",
       "    <tr>\n",
       "      <th>1</th>\n",
       "      <td>dose</td>\n",
       "      <td>16.912241</td>\n",
       "      <td>1</td>\n",
       "      <td>16.912241</td>\n",
       "      <td>0.638094</td>\n",
       "      <td>0.427552</td>\n",
       "      <td>0.010523</td>\n",
       "    </tr>\n",
       "    <tr>\n",
       "      <th>2</th>\n",
       "      <td>age * dose</td>\n",
       "      <td>0.927077</td>\n",
       "      <td>1</td>\n",
       "      <td>0.927077</td>\n",
       "      <td>0.034978</td>\n",
       "      <td>0.852272</td>\n",
       "      <td>0.000583</td>\n",
       "    </tr>\n",
       "    <tr>\n",
       "      <th>3</th>\n",
       "      <td>Residual</td>\n",
       "      <td>1590.257424</td>\n",
       "      <td>60</td>\n",
       "      <td>26.504290</td>\n",
       "      <td>NaN</td>\n",
       "      <td>NaN</td>\n",
       "      <td>NaN</td>\n",
       "    </tr>\n",
       "  </tbody>\n",
       "</table>\n",
       "</div>"
      ],
      "text/plain": [
       "       Source           SS  DF          MS         F     p-unc       np2\n",
       "0         age   197.452754   1  197.452754  7.449841  0.008313  0.110450\n",
       "1        dose    16.912241   1   16.912241  0.638094  0.427552  0.010523\n",
       "2  age * dose     0.927077   1    0.927077  0.034978  0.852272  0.000583\n",
       "3    Residual  1590.257424  60   26.504290       NaN       NaN       NaN"
      ]
     },
     "execution_count": 17,
     "metadata": {},
     "output_type": "execute_result"
    }
   ],
   "source": [
    "import pandas as pd\n",
    "import pingouin as pg\n",
    "import matplotlib.pyplot as plt\n",
    "import seaborn as sns\n",
    "\n",
    "url = \"https://stepik.org/media/attachments/lesson/9250/atherosclerosis.csv\"\n",
    "athero = pd.read_csv(url)\n",
    "\n",
    "sns.pointplot(data=athero, x='dose', y='expr', hue='age', join=False, dodge=True, capsize=0.05)\n",
    "plt.show()\n",
    "\n",
    "results = pg.anova(data=athero, dv='expr', between=['age', 'dose'])\n",
    "results"
   ]
  },
  {
   "cell_type": "markdown",
   "metadata": {},
   "source": [
    "### Разберем формулы \"на коленке\""
   ]
  },
  {
   "cell_type": "code",
   "execution_count": 38,
   "metadata": {},
   "outputs": [
    {
     "data": {
      "text/html": [
       "<div>\n",
       "<style scoped>\n",
       "    .dataframe tbody tr th:only-of-type {\n",
       "        vertical-align: middle;\n",
       "    }\n",
       "\n",
       "    .dataframe tbody tr th {\n",
       "        vertical-align: top;\n",
       "    }\n",
       "\n",
       "    .dataframe thead th {\n",
       "        text-align: right;\n",
       "    }\n",
       "</style>\n",
       "<table border=\"1\" class=\"dataframe\">\n",
       "  <thead>\n",
       "    <tr style=\"text-align: right;\">\n",
       "      <th></th>\n",
       "      <th>expr</th>\n",
       "      <th>age</th>\n",
       "      <th>dose</th>\n",
       "      <th>expr**2</th>\n",
       "    </tr>\n",
       "  </thead>\n",
       "  <tbody>\n",
       "    <tr>\n",
       "      <th>0</th>\n",
       "      <td>107.351478</td>\n",
       "      <td>1</td>\n",
       "      <td>D1</td>\n",
       "      <td>11524.339841</td>\n",
       "    </tr>\n",
       "    <tr>\n",
       "      <th>1</th>\n",
       "      <td>104.504438</td>\n",
       "      <td>1</td>\n",
       "      <td>D1</td>\n",
       "      <td>10921.177590</td>\n",
       "    </tr>\n",
       "    <tr>\n",
       "      <th>2</th>\n",
       "      <td>103.435134</td>\n",
       "      <td>1</td>\n",
       "      <td>D1</td>\n",
       "      <td>10698.826989</td>\n",
       "    </tr>\n",
       "    <tr>\n",
       "      <th>3</th>\n",
       "      <td>109.572882</td>\n",
       "      <td>1</td>\n",
       "      <td>D1</td>\n",
       "      <td>12006.216490</td>\n",
       "    </tr>\n",
       "    <tr>\n",
       "      <th>4</th>\n",
       "      <td>114.993803</td>\n",
       "      <td>1</td>\n",
       "      <td>D1</td>\n",
       "      <td>13223.574617</td>\n",
       "    </tr>\n",
       "  </tbody>\n",
       "</table>\n",
       "</div>"
      ],
      "text/plain": [
       "         expr  age dose       expr**2\n",
       "0  107.351478    1   D1  11524.339841\n",
       "1  104.504438    1   D1  10921.177590\n",
       "2  103.435134    1   D1  10698.826989\n",
       "3  109.572882    1   D1  12006.216490\n",
       "4  114.993803    1   D1  13223.574617"
      ]
     },
     "execution_count": 38,
     "metadata": {},
     "output_type": "execute_result"
    }
   ],
   "source": [
    "athero['expr**2']=athero['expr'].apply(lambda x:x**2)\n",
    "athero.head()"
   ]
  },
  {
   "cell_type": "code",
   "execution_count": 50,
   "metadata": {},
   "outputs": [
    {
     "data": {
      "text/html": [
       "<div>\n",
       "<style scoped>\n",
       "    .dataframe tbody tr th:only-of-type {\n",
       "        vertical-align: middle;\n",
       "    }\n",
       "\n",
       "    .dataframe tbody tr th {\n",
       "        vertical-align: top;\n",
       "    }\n",
       "\n",
       "    .dataframe thead th {\n",
       "        text-align: right;\n",
       "    }\n",
       "</style>\n",
       "<table border=\"1\" class=\"dataframe\">\n",
       "  <thead>\n",
       "    <tr style=\"text-align: right;\">\n",
       "      <th>dose</th>\n",
       "      <th>D1</th>\n",
       "      <th>D2</th>\n",
       "    </tr>\n",
       "    <tr>\n",
       "      <th>age</th>\n",
       "      <th></th>\n",
       "      <th></th>\n",
       "    </tr>\n",
       "  </thead>\n",
       "  <tbody>\n",
       "    <tr>\n",
       "      <th>1</th>\n",
       "      <td>1676.135425</td>\n",
       "      <td>1688.733829</td>\n",
       "    </tr>\n",
       "    <tr>\n",
       "      <th>2</th>\n",
       "      <td>1616.076878</td>\n",
       "      <td>1636.378070</td>\n",
       "    </tr>\n",
       "  </tbody>\n",
       "</table>\n",
       "</div>"
      ],
      "text/plain": [
       "dose           D1           D2\n",
       "age                           \n",
       "1     1676.135425  1688.733829\n",
       "2     1616.076878  1636.378070"
      ]
     },
     "metadata": {},
     "output_type": "display_data"
    },
    {
     "data": {
      "text/plain": [
       "7.449841183474029"
      ]
     },
     "metadata": {},
     "output_type": "display_data"
    },
    {
     "data": {
      "text/plain": [
       "0.6380944496986383"
      ]
     },
     "metadata": {},
     "output_type": "display_data"
    },
    {
     "data": {
      "text/plain": [
       "0.03497838730434117"
      ]
     },
     "metadata": {},
     "output_type": "display_data"
    }
   ],
   "source": [
    "pivot=athero.pivot_table(values='expr', columns='dose', index='age', aggfunc='sum')\n",
    "display(pivot)\n",
    "A1D1=pivot.loc[1,'D1']\n",
    "A1D2=pivot.loc[1,'D2']\n",
    "A2D1=pivot.loc[2,'D1']\n",
    "A2D2=pivot.loc[2,'D2']\n",
    "A1=A1D1+A1D2\n",
    "A2=A2D1+A2D2\n",
    "D1=A1D1+A2D1\n",
    "D2=A1D2+A2D2\n",
    "N=len(athero)\n",
    "a=athero['age'].nunique()\n",
    "d=athero['dose'].nunique()\n",
    "n=N/(a+d)\n",
    "const=athero['expr'].sum()**2/N\n",
    "\n",
    "SSa=(A1**2+A2**2)/(n*a)-const\n",
    "SSd=(D1**2+D2**2)/(n*d)-const\n",
    "SSad=(A1D1**2+A1D2**2+A2D1**2+A2D2**2)/n-const-SSa-SSd\n",
    "SSall=athero['expr**2'].sum()-const\n",
    "SS=SSall-SSad-SSd-SSa\n",
    "\n",
    "#Рассчитаем степени свободы:\n",
    "DFa=a-1\n",
    "DFd=d-1\n",
    "DFad=DFa*DFd\n",
    "DFall=N-1\n",
    "DF=DFall-DFad-DFd-DFa\n",
    "\n",
    "MSa=SSa/DFa\n",
    "MSd=SSd/DFd\n",
    "MSad=SSad/DFad\n",
    "MS=SS/DF\n",
    "\n",
    "#Подсчет F-критерия\n",
    "\n",
    "Fa= MSa/MS\n",
    "Fd= MSd/MS\n",
    "Fad= MSad/MS\n",
    "\n",
    "display(Fa, Fd, Fad)"
   ]
  }
 ],
 "metadata": {
  "kernelspec": {
   "display_name": "Python 3.9.13 64-bit",
   "language": "python",
   "name": "python3"
  },
  "language_info": {
   "codemirror_mode": {
    "name": "ipython",
    "version": 3
   },
   "file_extension": ".py",
   "mimetype": "text/x-python",
   "name": "python",
   "nbconvert_exporter": "python",
   "pygments_lexer": "ipython3",
   "version": "3.9.13"
  },
  "orig_nbformat": 4,
  "vscode": {
   "interpreter": {
    "hash": "d9142b2fbab15c99dfc533f86d96bbee7ce589cd596323c01c162209057644fd"
   }
  }
 },
 "nbformat": 4,
 "nbformat_minor": 2
}
