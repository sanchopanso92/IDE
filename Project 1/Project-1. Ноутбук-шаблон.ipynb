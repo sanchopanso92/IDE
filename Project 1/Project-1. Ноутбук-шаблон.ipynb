{
 "cells": [
  {
   "cell_type": "markdown",
   "id": "42289889-bd57-434e-9637-d3e354756316",
   "metadata": {},
   "source": [
    "<center> <img src = https://raw.githubusercontent.com/AndreyRysistov/DatasetsForPandas/main/hh%20label.jpg alt=\"drawing\" style=\"width:400px;\">"
   ]
  },
  {
   "cell_type": "markdown",
   "id": "829cb75b-f14e-4ba8-9195-7ba929a7d656",
   "metadata": {
    "tags": []
   },
   "source": [
    "# <center> Проект: Анализ резюме из HeadHunter\n",
    "   "
   ]
  },
  {
   "cell_type": "code",
   "execution_count": 1,
   "id": "dccfde33-2452-43fb-a8a5-5c6ebc02a71d",
   "metadata": {},
   "outputs": [],
   "source": [
    "import pandas as pd\n",
    "import numpy as np\n",
    "import matplotlib.pyplot as plt\n",
    "import seaborn as sns\n",
    "import plotly.express as px"
   ]
  },
  {
   "cell_type": "markdown",
   "id": "0dc6476b-7a00-44f1-ac93-6e3baed33a29",
   "metadata": {},
   "source": [
    "# Исследование структуры данных"
   ]
  },
  {
   "cell_type": "markdown",
   "id": "889782b6-8d1c-410e-8920-e57f27917c64",
   "metadata": {},
   "source": [
    "1. Прочитайте данные с помощью библиотеки Pandas. Совет: перед чтением обратите внимание на разделитель внутри файла. "
   ]
  },
  {
   "cell_type": "code",
   "execution_count": 2,
   "id": "bc39e68e-ed02-4ee2-9235-7258a2f867a8",
   "metadata": {},
   "outputs": [],
   "source": [
    "df=pd.read_csv('data/dst-3.0_16_1_hh_database.csv', sep=';')"
   ]
  },
  {
   "cell_type": "markdown",
   "id": "b583485d-1f9e-494e-ada4-80ffff7c53d6",
   "metadata": {},
   "source": [
    "2. Выведите несколько первых (последних) строк таблицы, чтобы убедиться в том, что ваши данные не повреждены. Ознакомьтесь с признаками и их структурой."
   ]
  },
  {
   "cell_type": "code",
   "execution_count": 3,
   "id": "5408c52c-3407-4a63-b25b-1aafa2322d28",
   "metadata": {},
   "outputs": [
    {
     "data": {
      "text/html": [
       "<div>\n",
       "<style scoped>\n",
       "    .dataframe tbody tr th:only-of-type {\n",
       "        vertical-align: middle;\n",
       "    }\n",
       "\n",
       "    .dataframe tbody tr th {\n",
       "        vertical-align: top;\n",
       "    }\n",
       "\n",
       "    .dataframe thead th {\n",
       "        text-align: right;\n",
       "    }\n",
       "</style>\n",
       "<table border=\"1\" class=\"dataframe\">\n",
       "  <thead>\n",
       "    <tr style=\"text-align: right;\">\n",
       "      <th></th>\n",
       "      <th>Пол, возраст</th>\n",
       "      <th>ЗП</th>\n",
       "      <th>Ищет работу на должность:</th>\n",
       "      <th>Город, переезд, командировки</th>\n",
       "      <th>Занятость</th>\n",
       "      <th>График</th>\n",
       "      <th>Опыт работы</th>\n",
       "      <th>Последнее/нынешнее место работы</th>\n",
       "      <th>Последняя/нынешняя должность</th>\n",
       "      <th>Образование и ВУЗ</th>\n",
       "      <th>Обновление резюме</th>\n",
       "      <th>Авто</th>\n",
       "    </tr>\n",
       "  </thead>\n",
       "  <tbody>\n",
       "    <tr>\n",
       "      <th>0</th>\n",
       "      <td>Мужчина ,  39 лет , родился 27 ноября 1979</td>\n",
       "      <td>29000 руб.</td>\n",
       "      <td>Системный администратор</td>\n",
       "      <td>Советск (Калининградская область) , не готов к...</td>\n",
       "      <td>частичная занятость, проектная работа, полная ...</td>\n",
       "      <td>гибкий график, полный день, сменный график, ва...</td>\n",
       "      <td>Опыт работы 16 лет 10 месяцев  Август 2010 — п...</td>\n",
       "      <td>МАОУ \"СОШ № 1 г.Немана\"</td>\n",
       "      <td>Системный администратор</td>\n",
       "      <td>Неоконченное высшее образование 2000  Балтийск...</td>\n",
       "      <td>16.04.2019 15:59</td>\n",
       "      <td>Имеется собственный автомобиль</td>\n",
       "    </tr>\n",
       "    <tr>\n",
       "      <th>1</th>\n",
       "      <td>Мужчина ,  60 лет , родился 20 марта 1959</td>\n",
       "      <td>40000 руб.</td>\n",
       "      <td>Технический писатель</td>\n",
       "      <td>Королев , не готов к переезду , готов к редким...</td>\n",
       "      <td>частичная занятость, проектная работа, полная ...</td>\n",
       "      <td>гибкий график, полный день, сменный график, уд...</td>\n",
       "      <td>Опыт работы 19 лет 5 месяцев  Январь 2000 — по...</td>\n",
       "      <td>Временный трудовой коллектив</td>\n",
       "      <td>Менеджер проекта, Аналитик, Технический писатель</td>\n",
       "      <td>Высшее образование 1981  Военно-космическая ак...</td>\n",
       "      <td>12.04.2019 08:42</td>\n",
       "      <td>Не указано</td>\n",
       "    </tr>\n",
       "    <tr>\n",
       "      <th>2</th>\n",
       "      <td>Женщина ,  36 лет , родилась 12 августа 1982</td>\n",
       "      <td>20000 руб.</td>\n",
       "      <td>Оператор</td>\n",
       "      <td>Тверь , не готова к переезду , не готова к ком...</td>\n",
       "      <td>полная занятость</td>\n",
       "      <td>полный день</td>\n",
       "      <td>Опыт работы 10 лет 3 месяца  Октябрь 2004 — Де...</td>\n",
       "      <td>ПАО Сбербанк</td>\n",
       "      <td>Кассир-операционист</td>\n",
       "      <td>Среднее специальное образование 2002 Профессио...</td>\n",
       "      <td>16.04.2019 08:35</td>\n",
       "      <td>Не указано</td>\n",
       "    </tr>\n",
       "    <tr>\n",
       "      <th>3</th>\n",
       "      <td>Мужчина ,  38 лет , родился 25 июня 1980</td>\n",
       "      <td>100000 руб.</td>\n",
       "      <td>Веб-разработчик (HTML / CSS / JS / PHP / базы ...</td>\n",
       "      <td>Саратов , не готов к переезду , готов к редким...</td>\n",
       "      <td>частичная занятость, проектная работа, полная ...</td>\n",
       "      <td>гибкий график, удаленная работа</td>\n",
       "      <td>Опыт работы 18 лет 9 месяцев  Август 2017 — Ап...</td>\n",
       "      <td>OpenSoft</td>\n",
       "      <td>Инженер-программист</td>\n",
       "      <td>Высшее образование 2002  Саратовский государст...</td>\n",
       "      <td>08.04.2019 14:23</td>\n",
       "      <td>Не указано</td>\n",
       "    </tr>\n",
       "    <tr>\n",
       "      <th>4</th>\n",
       "      <td>Женщина ,  26 лет , родилась 3 марта 1993</td>\n",
       "      <td>140000 руб.</td>\n",
       "      <td>Региональный менеджер по продажам</td>\n",
       "      <td>Москва , не готова к переезду , готова к коман...</td>\n",
       "      <td>полная занятость</td>\n",
       "      <td>полный день</td>\n",
       "      <td>Опыт работы 5 лет 7 месяцев  Региональный мене...</td>\n",
       "      <td>Мармелад</td>\n",
       "      <td>Менеджер по продажам</td>\n",
       "      <td>Высшее образование 2015 Кгу Психологии и педаг...</td>\n",
       "      <td>22.04.2019 10:32</td>\n",
       "      <td>Не указано</td>\n",
       "    </tr>\n",
       "  </tbody>\n",
       "</table>\n",
       "</div>"
      ],
      "text/plain": [
       "                                   Пол, возраст           ЗП  \\\n",
       "0    Мужчина ,  39 лет , родился 27 ноября 1979   29000 руб.   \n",
       "1     Мужчина ,  60 лет , родился 20 марта 1959   40000 руб.   \n",
       "2  Женщина ,  36 лет , родилась 12 августа 1982   20000 руб.   \n",
       "3      Мужчина ,  38 лет , родился 25 июня 1980  100000 руб.   \n",
       "4     Женщина ,  26 лет , родилась 3 марта 1993  140000 руб.   \n",
       "\n",
       "                           Ищет работу на должность:  \\\n",
       "0                            Системный администратор   \n",
       "1                               Технический писатель   \n",
       "2                                           Оператор   \n",
       "3  Веб-разработчик (HTML / CSS / JS / PHP / базы ...   \n",
       "4                  Региональный менеджер по продажам   \n",
       "\n",
       "                        Город, переезд, командировки  \\\n",
       "0  Советск (Калининградская область) , не готов к...   \n",
       "1  Королев , не готов к переезду , готов к редким...   \n",
       "2  Тверь , не готова к переезду , не готова к ком...   \n",
       "3  Саратов , не готов к переезду , готов к редким...   \n",
       "4  Москва , не готова к переезду , готова к коман...   \n",
       "\n",
       "                                           Занятость  \\\n",
       "0  частичная занятость, проектная работа, полная ...   \n",
       "1  частичная занятость, проектная работа, полная ...   \n",
       "2                                   полная занятость   \n",
       "3  частичная занятость, проектная работа, полная ...   \n",
       "4                                   полная занятость   \n",
       "\n",
       "                                              График  \\\n",
       "0  гибкий график, полный день, сменный график, ва...   \n",
       "1  гибкий график, полный день, сменный график, уд...   \n",
       "2                                        полный день   \n",
       "3                    гибкий график, удаленная работа   \n",
       "4                                        полный день   \n",
       "\n",
       "                                         Опыт работы  \\\n",
       "0  Опыт работы 16 лет 10 месяцев  Август 2010 — п...   \n",
       "1  Опыт работы 19 лет 5 месяцев  Январь 2000 — по...   \n",
       "2  Опыт работы 10 лет 3 месяца  Октябрь 2004 — Де...   \n",
       "3  Опыт работы 18 лет 9 месяцев  Август 2017 — Ап...   \n",
       "4  Опыт работы 5 лет 7 месяцев  Региональный мене...   \n",
       "\n",
       "  Последнее/нынешнее место работы  \\\n",
       "0         МАОУ \"СОШ № 1 г.Немана\"   \n",
       "1    Временный трудовой коллектив   \n",
       "2                    ПАО Сбербанк   \n",
       "3                        OpenSoft   \n",
       "4                        Мармелад   \n",
       "\n",
       "                       Последняя/нынешняя должность  \\\n",
       "0                           Системный администратор   \n",
       "1  Менеджер проекта, Аналитик, Технический писатель   \n",
       "2                               Кассир-операционист   \n",
       "3                               Инженер-программист   \n",
       "4                              Менеджер по продажам   \n",
       "\n",
       "                                   Образование и ВУЗ Обновление резюме  \\\n",
       "0  Неоконченное высшее образование 2000  Балтийск...  16.04.2019 15:59   \n",
       "1  Высшее образование 1981  Военно-космическая ак...  12.04.2019 08:42   \n",
       "2  Среднее специальное образование 2002 Профессио...  16.04.2019 08:35   \n",
       "3  Высшее образование 2002  Саратовский государст...  08.04.2019 14:23   \n",
       "4  Высшее образование 2015 Кгу Психологии и педаг...  22.04.2019 10:32   \n",
       "\n",
       "                             Авто  \n",
       "0  Имеется собственный автомобиль  \n",
       "1                      Не указано  \n",
       "2                      Не указано  \n",
       "3                      Не указано  \n",
       "4                      Не указано  "
      ]
     },
     "metadata": {},
     "output_type": "display_data"
    },
    {
     "data": {
      "text/plain": [
       "(44744, 12)"
      ]
     },
     "metadata": {},
     "output_type": "display_data"
    }
   ],
   "source": [
    "display(df.head())\n",
    "display(df.shape)"
   ]
  },
  {
   "cell_type": "markdown",
   "id": "a2bfff1f-c975-4bf6-84be-2185d79dcb76",
   "metadata": {},
   "source": [
    "3. Выведите основную информацию о числе непустых значений в столбцах и их типах в таблице."
   ]
  },
  {
   "cell_type": "markdown",
   "id": "41bb59f3-53cc-4a67-a5bc-bedf573955e4",
   "metadata": {},
   "source": [
    "4. Обратите внимание на информацию о числе непустых значений."
   ]
  },
  {
   "cell_type": "code",
   "execution_count": 4,
   "id": "d286cf4c-707b-4cd2-9190-7ab3587d04a1",
   "metadata": {},
   "outputs": [
    {
     "name": "stdout",
     "output_type": "stream",
     "text": [
      "<class 'pandas.core.frame.DataFrame'>\n",
      "RangeIndex: 44744 entries, 0 to 44743\n",
      "Data columns (total 12 columns):\n",
      " #   Column                           Non-Null Count  Dtype \n",
      "---  ------                           --------------  ----- \n",
      " 0   Пол, возраст                     44744 non-null  object\n",
      " 1   ЗП                               44744 non-null  object\n",
      " 2   Ищет работу на должность:        44744 non-null  object\n",
      " 3   Город, переезд, командировки     44744 non-null  object\n",
      " 4   Занятость                        44744 non-null  object\n",
      " 5   График                           44744 non-null  object\n",
      " 6   Опыт работы                      44576 non-null  object\n",
      " 7   Последнее/нынешнее место работы  44743 non-null  object\n",
      " 8   Последняя/нынешняя должность     44742 non-null  object\n",
      " 9   Образование и ВУЗ                44744 non-null  object\n",
      " 10  Обновление резюме                44744 non-null  object\n",
      " 11  Авто                             44744 non-null  object\n",
      "dtypes: object(12)\n",
      "memory usage: 4.1+ MB\n"
     ]
    },
    {
     "data": {
      "text/plain": [
       "None"
      ]
     },
     "metadata": {},
     "output_type": "display_data"
    }
   ],
   "source": [
    "display(df.info())"
   ]
  },
  {
   "cell_type": "markdown",
   "id": "9a8a2181-6914-448b-85f1-38f5f18b8a93",
   "metadata": {},
   "source": [
    "5. Выведите основную статистическую информацию о столбцах.\n"
   ]
  },
  {
   "cell_type": "code",
   "execution_count": 5,
   "id": "be4e9bd3-a4db-4a20-82fb-6b02fc2957e0",
   "metadata": {},
   "outputs": [
    {
     "data": {
      "text/html": [
       "<div>\n",
       "<style scoped>\n",
       "    .dataframe tbody tr th:only-of-type {\n",
       "        vertical-align: middle;\n",
       "    }\n",
       "\n",
       "    .dataframe tbody tr th {\n",
       "        vertical-align: top;\n",
       "    }\n",
       "\n",
       "    .dataframe thead th {\n",
       "        text-align: right;\n",
       "    }\n",
       "</style>\n",
       "<table border=\"1\" class=\"dataframe\">\n",
       "  <thead>\n",
       "    <tr style=\"text-align: right;\">\n",
       "      <th></th>\n",
       "      <th>Пол, возраст</th>\n",
       "      <th>ЗП</th>\n",
       "      <th>Ищет работу на должность:</th>\n",
       "      <th>Город, переезд, командировки</th>\n",
       "      <th>Занятость</th>\n",
       "      <th>График</th>\n",
       "      <th>Опыт работы</th>\n",
       "      <th>Последнее/нынешнее место работы</th>\n",
       "      <th>Последняя/нынешняя должность</th>\n",
       "      <th>Образование и ВУЗ</th>\n",
       "      <th>Обновление резюме</th>\n",
       "      <th>Авто</th>\n",
       "    </tr>\n",
       "  </thead>\n",
       "  <tbody>\n",
       "    <tr>\n",
       "      <th>count</th>\n",
       "      <td>44744</td>\n",
       "      <td>44744</td>\n",
       "      <td>44744</td>\n",
       "      <td>44744</td>\n",
       "      <td>44744</td>\n",
       "      <td>44744</td>\n",
       "      <td>44576</td>\n",
       "      <td>44743</td>\n",
       "      <td>44742</td>\n",
       "      <td>44744</td>\n",
       "      <td>44744</td>\n",
       "      <td>44744</td>\n",
       "    </tr>\n",
       "    <tr>\n",
       "      <th>unique</th>\n",
       "      <td>16003</td>\n",
       "      <td>690</td>\n",
       "      <td>14929</td>\n",
       "      <td>10063</td>\n",
       "      <td>38</td>\n",
       "      <td>47</td>\n",
       "      <td>44413</td>\n",
       "      <td>30214</td>\n",
       "      <td>16927</td>\n",
       "      <td>40148</td>\n",
       "      <td>18838</td>\n",
       "      <td>2</td>\n",
       "    </tr>\n",
       "    <tr>\n",
       "      <th>top</th>\n",
       "      <td>Мужчина ,  32 года , родился 17 сентября 1986</td>\n",
       "      <td>50000 руб.</td>\n",
       "      <td>Системный администратор</td>\n",
       "      <td>Москва , не готов к переезду , не готов к кома...</td>\n",
       "      <td>полная занятость</td>\n",
       "      <td>полный день</td>\n",
       "      <td>Опыт работы 10 лет 8 месяцев  Апрель 2018 — по...</td>\n",
       "      <td>Индивидуальное предпринимательство / частная п...</td>\n",
       "      <td>Системный администратор</td>\n",
       "      <td>Высшее образование 2014  Московский технически...</td>\n",
       "      <td>07.05.2019 09:50</td>\n",
       "      <td>Не указано</td>\n",
       "    </tr>\n",
       "    <tr>\n",
       "      <th>freq</th>\n",
       "      <td>18</td>\n",
       "      <td>4064</td>\n",
       "      <td>3099</td>\n",
       "      <td>1261</td>\n",
       "      <td>30026</td>\n",
       "      <td>22727</td>\n",
       "      <td>3</td>\n",
       "      <td>935</td>\n",
       "      <td>2062</td>\n",
       "      <td>4</td>\n",
       "      <td>25</td>\n",
       "      <td>32268</td>\n",
       "    </tr>\n",
       "  </tbody>\n",
       "</table>\n",
       "</div>"
      ],
      "text/plain": [
       "                                         Пол, возраст          ЗП  \\\n",
       "count                                           44744       44744   \n",
       "unique                                          16003         690   \n",
       "top     Мужчина ,  32 года , родился 17 сентября 1986  50000 руб.   \n",
       "freq                                               18        4064   \n",
       "\n",
       "       Ищет работу на должность:  \\\n",
       "count                      44744   \n",
       "unique                     14929   \n",
       "top      Системный администратор   \n",
       "freq                        3099   \n",
       "\n",
       "                             Город, переезд, командировки         Занятость  \\\n",
       "count                                               44744             44744   \n",
       "unique                                              10063                38   \n",
       "top     Москва , не готов к переезду , не готов к кома...  полная занятость   \n",
       "freq                                                 1261             30026   \n",
       "\n",
       "             График                                        Опыт работы  \\\n",
       "count         44744                                              44576   \n",
       "unique           47                                              44413   \n",
       "top     полный день  Опыт работы 10 лет 8 месяцев  Апрель 2018 — по...   \n",
       "freq          22727                                                  3   \n",
       "\n",
       "                          Последнее/нынешнее место работы  \\\n",
       "count                                               44743   \n",
       "unique                                              30214   \n",
       "top     Индивидуальное предпринимательство / частная п...   \n",
       "freq                                                  935   \n",
       "\n",
       "       Последняя/нынешняя должность  \\\n",
       "count                         44742   \n",
       "unique                        16927   \n",
       "top         Системный администратор   \n",
       "freq                           2062   \n",
       "\n",
       "                                        Образование и ВУЗ Обновление резюме  \\\n",
       "count                                               44744             44744   \n",
       "unique                                              40148             18838   \n",
       "top     Высшее образование 2014  Московский технически...  07.05.2019 09:50   \n",
       "freq                                                    4                25   \n",
       "\n",
       "              Авто  \n",
       "count        44744  \n",
       "unique           2  \n",
       "top     Не указано  \n",
       "freq         32268  "
      ]
     },
     "execution_count": 5,
     "metadata": {},
     "output_type": "execute_result"
    }
   ],
   "source": [
    "df.describe()"
   ]
  },
  {
   "cell_type": "markdown",
   "id": "8d62a9f3-f64e-4fe7-bdac-c4dffa16155e",
   "metadata": {},
   "source": [
    "# Преобразование данных"
   ]
  },
  {
   "cell_type": "markdown",
   "id": "93053d3d-b284-481a-9cf7-012d7014c0e0",
   "metadata": {},
   "source": [
    "1. Начнем с простого - с признака **\"Образование и ВУЗ\"**. Его текущий формат это: **<Уровень образования год выпуска ВУЗ специальность...>**. Например:\n",
    "* Высшее образование 2016 Московский авиационный институт (национальный исследовательский университет)...\n",
    "* Неоконченное высшее образование 2000  Балтийская государственная академия рыбопромыслового флота…\n",
    "Нас будет интересовать только уровень образования.\n",
    "\n",
    "Создайте с помощью функции-преобразования новый признак **\"Образование\"**, который должен иметь 4 категории: \"высшее\", \"неоконченное высшее\", \"среднее специальное\" и \"среднее\".\n",
    "\n",
    "Выполните преобразование, ответьте на контрольные вопросы и удалите признак \"Образование и ВУЗ\".\n",
    "\n",
    "Совет: обратите внимание на структуру текста в столбце **\"Образование и ВУЗ\"**. Гарантируется, что текущий уровень образования соискателя всегда находится в первых 2ух слов и начинается с заглавной буквы. Воспользуйтесь этим.\n",
    "\n",
    "*Совет: проверяйте полученные категории, например, с помощью метода unique()*\n"
   ]
  },
  {
   "cell_type": "code",
   "execution_count": 6,
   "id": "3f069da6-fdc9-4ae7-b514-fafe2675efd3",
   "metadata": {},
   "outputs": [
    {
     "data": {
      "text/plain": [
       "Высшее образование                  33863\n",
       "Среднее специальное образование      5765\n",
       "Неоконченное высшее образование      4557\n",
       "Среднее образование                   559\n",
       "Name: Образование, dtype: int64"
      ]
     },
     "execution_count": 6,
     "metadata": {},
     "output_type": "execute_result"
    }
   ],
   "source": [
    "import re \n",
    "pattern = r'[0-9]' \n",
    "df['Образование']=df['Образование и ВУЗ'].apply(lambda x: re.split(pattern, x)[0].split('(')[0]) \n",
    "df['Образование'].value_counts()"
   ]
  },
  {
   "cell_type": "markdown",
   "id": "4266f0b6-1646-492a-88b4-2f6a46502135",
   "metadata": {},
   "source": [
    "2. Теперь нас интересует столбец **\"Пол, возраст\"**. Сейчас он представлен в формате **<Пол , возраст , дата рождения >**. Например:\n",
    "* Мужчина , 39 лет , родился 27 ноября 1979 \n",
    "* Женщина , 21 год , родилась 13 января 2000\n",
    "Как вы понимаете, нам необходимо выделить каждый параметр в отдельный столбец.\n",
    "\n",
    "Создайте два новых признака **\"Пол\"** и **\"Возраст\"**. При этом важно учесть:\n",
    "* Признак пола должен иметь 2 уникальных строковых значения: 'М' - мужчина, 'Ж' - женщина. \n",
    "* Признак возраста должен быть представлен целыми числами.\n",
    "\n",
    "Выполните преобразование, ответьте на контрольные вопросы и удалите признак **\"Пол, возраст\"** из таблицы.\n",
    "\n",
    "*Совет: обратите внимание на структуру текста в столбце, в части на то, как разделены параметры пола, возраста и даты рождения между собой - символом ' , '. \n",
    "Гарантируется, что структура одинакова для всех строк в таблице. Вы можете воспользоваться этим.*\n"
   ]
  },
  {
   "cell_type": "code",
   "execution_count": 7,
   "id": "f92bb6c1",
   "metadata": {},
   "outputs": [
    {
     "data": {
      "text/plain": [
       "М    0.809293\n",
       "Ж    0.190707\n",
       "Name: Пол, dtype: float64"
      ]
     },
     "metadata": {},
     "output_type": "display_data"
    },
    {
     "data": {
      "text/plain": [
       "32.19674146254246"
      ]
     },
     "metadata": {},
     "output_type": "display_data"
    },
    {
     "data": {
      "image/png": "[encoded data removed]",
      "text/plain": [
       "<Figure size 432x288 with 1 Axes>"
      ]
     },
     "metadata": {
      "needs_background": "light"
     },
     "output_type": "display_data"
    }
   ],
   "source": [
    "df['Пол']=df['Пол, возраст'].apply(lambda x: x[0]) \n",
    "df['Возраст']=df['Пол, возраст'].apply(lambda x: x.split(',')[1].split(' ')[2]) \n",
    "display(df['Пол'].value_counts(normalize=True))\n",
    "df['Возраст']=df['Возраст'].astype('int')\n",
    "df['Возраст'].hist()\n",
    "display(df['Возраст'].mean())\n",
    "df = df.drop('Пол, возраст', axis=1)"
   ]
  },
  {
   "cell_type": "markdown",
   "id": "635c4d5d-f323-4c66-b428-50a088120aa0",
   "metadata": {},
   "source": [
    "3. Следующим этапом преобразуем признак **\"Опыт работы\"**. Его текущий формат - это: **<Опыт работы: n лет m месяцев, периоды работы в различных компаниях…>**. \n",
    "\n",
    "Из столбца нам необходимо выделить общий опыт работы соискателя в месяцах, новый признак назовем \"Опыт работы (месяц)\"\n",
    "\n",
    "Для начала обсудим условия решения задачи:\n",
    "* Во-первых, в данном признаке есть пропуски. Условимся, что если мы встречаем пропуск, оставляем его как есть (функция-преобразование возвращает NaN)\n",
    "* Во-вторых, в данном признаке есть скрытые пропуски. Для некоторых соискателей в столбце стоит значения \"Не указано\". Их тоже обозначим как NaN (функция-преобразование возвращает NaN)\n",
    "* В-третьих, нас не интересует информация, которая описывается после указания опыта работы (периоды работы в различных компаниях)\n",
    "* В-четвертых, у нас есть проблема: опыт работы может быть представлен только в годах или только месяцах. Например, можно встретить следующие варианты:\n",
    "    * Опыт работы 3 года 2 месяца…\n",
    "    * Опыт работы 4 года…\n",
    "    * Опыт работы 11 месяцев…\n",
    "    * Учитывайте эту особенность в вашем коде\n",
    "\n",
    "Учитывайте эту особенность в вашем коде\n",
    "\n",
    "В результате преобразования у вас должен получиться столбец, содержащий информацию о том, сколько месяцев проработал соискатель.\n",
    "Выполните преобразование, ответьте на контрольные вопросы и удалите столбец **\"Опыт работы\"** из таблицы.\n"
   ]
  },
  {
   "cell_type": "code",
   "execution_count": 8,
   "id": "603cdbe4-0ec3-4106-8eaf-c73fcdd29165",
   "metadata": {},
   "outputs": [
    {
     "data": {
      "image/png": "[encoded data removed]",
      "text/plain": [
       "<Figure size 432x288 with 1 Axes>"
      ]
     },
     "metadata": {
      "needs_background": "light"
     },
     "output_type": "display_data"
    }
   ],
   "source": [
    "import re \n",
    "def identify_exp(n_row):\n",
    "    if n_row=='Не указано':\n",
    "        return float('nan')\n",
    "    try:\n",
    "        r=n_row[12:]\n",
    "    except TypeError:\n",
    "        return float('nan')\n",
    "    else: \n",
    "        r=r.split(' ')\n",
    "        if 'месяц' in r[3]:\n",
    "            month=int(r[0])*12+int(r[2])\n",
    "        elif 'месяц' in r[1]:\n",
    "            month=int(r[0])\n",
    "        else:\n",
    "            month=int(r[0])*12\n",
    "        return month\n",
    "        '''if n_row=='Не указано':\n",
    "            return float('nan')\n",
    "        else:\n",
    "            r=r.split(' ')\n",
    "            if r[1][2]==\"мес\":\n",
    "                return int(r[0])\n",
    "            else: \n",
    "                try:    \n",
    "                    r[3][4]==\"месяц\"\n",
    "                except IndexError:\n",
    "                    return int(r[0])*12\n",
    "                else:\n",
    "                    if r[3][4]==\"месяц\":\n",
    "                        return int(r[0])*12+int(r[2])\n",
    "                    else:\n",
    "                        int(r[0])*12'''\n",
    "    \n",
    "\n",
    "df['Опыт работы (месяц)']=df['Опыт работы'].apply(identify_exp) \n",
    "df['Опыт работы (месяц)'].hist()\n",
    "df['Опыт работы (месяц)'].median()\n",
    "df = df.drop('Опыт работы', axis=1)"
   ]
  },
  {
   "cell_type": "markdown",
   "id": "f3fdaec9-5fd3-4260-9cf5-1d7406b628a5",
   "metadata": {},
   "source": [
    "4. Хорошо идем! Следующий на очереди признак \"Город, переезд, командировки\". Информация в нем представлена в следующем виде: **<Город , (метро) , готовность к переезду (города для переезда) , готовность к командировкам>**. В скобках указаны необязательные параметры строки. Например, можно встретить следующие варианты:\n",
    "\n",
    "* Москва , не готов к переезду , готов к командировкам\n",
    "* Москва , м. Беломорская , не готов к переезду, не готов к командировкам\n",
    "* Воронеж , готов к переезду (Сочи, Москва, Санкт-Петербург) , готов к командировкам\n",
    "\n",
    "Создадим отдельные признаки **\"Город\"**, **\"Готовность к переезду\"**, **\"Готовность к командировкам\"**. При этом важно учесть:\n",
    "\n",
    "* Признак **\"Город\"** должен содержать только 4 категории: \"Москва\", \"Санкт-Петербург\" и \"город-миллионник\" (их список ниже), остальные обозначьте как \"другие\".\n",
    "\n",
    "    Список городов-миллионников:\n",
    "    \n",
    "   <code>million_cities = ['Новосибирск', 'Екатеринбург','Нижний Новгород','Казань', 'Челябинск','Омск', 'Самара', 'Ростов-на-Дону', 'Уфа', 'Красноярск', 'Пермь', 'Воронеж','Волгоград']\n",
    "    </code>\n",
    "    Инфорация о метро, рядом с которым проживает соискатель нас не интересует.\n",
    "* Признак **\"Готовность к переезду\"** должен иметь два возможных варианта: True или False. Обратите внимание, что возможны несколько вариантов описания готовности к переезду в признаке \"Город, переезд, командировки\". Например:\n",
    "    * … , готов к переезду , …\n",
    "    * … , не готова к переезду , …\n",
    "    * … , готова к переезду (Москва, Санкт-Петербург, Ростов-на-Дону)\n",
    "    * … , хочу переехать (США) , …\n",
    "    \n",
    "    Нас интересует только сам факт возможности или желания переезда.\n",
    "* Признак **\"Готовность к командировкам\"** должен иметь два возможных варианта: True или False. Обратите внимание, что возможны несколько вариантов описания готовности к командировкам в признаке \"Город, переезд, командировки\". Например:\n",
    "    * … , готов к командировкам , … \n",
    "    * … , готова к редким командировкам , …\n",
    "    * … , не готов к командировкам , …\n",
    "    \n",
    "    Нас интересует только сам факт готовности к командировке.\n",
    "    \n",
    "    Еще один важный факт: при выгрузки данных у некоторых соискателей \"потерялась\" информация о готовности к командировкам. Давайте по умолчанию будем считать, что такие соискатели не готовы к командировкам.\n",
    "    \n",
    "Выполните преобразования и удалите столбец **\"Город, переезд, командировки\"** из таблицы.\n",
    "\n",
    "*Совет: обратите внимание на то, что структура текста может меняться в зависимости от указания ближайшего метро. Учите это, если будете использовать порядок слов в своей программе.*\n"
   ]
  },
  {
   "cell_type": "code",
   "execution_count": 9,
   "id": "1ea710ec-871b-431e-9462-c7d0fd87011b",
   "metadata": {},
   "outputs": [
    {
     "data": {
      "text/plain": [
       "Москва              0.371469\n",
       "другие              0.354327\n",
       "город-миллионник    0.163866\n",
       "Санкт-Петербург     0.110339\n",
       "Name: Город, dtype: float64"
      ]
     },
     "metadata": {},
     "output_type": "display_data"
    },
    {
     "data": {
      "text/plain": [
       "False    28719\n",
       "True     16025\n",
       "Name: Готовность к переезду, dtype: int64"
      ]
     },
     "metadata": {},
     "output_type": "display_data"
    },
    {
     "data": {
      "text/plain": [
       "True     31640\n",
       "False    13104\n",
       "Name: Готовность к командировкам, dtype: int64"
      ]
     },
     "metadata": {},
     "output_type": "display_data"
    },
    {
     "data": {
      "text/plain": [
       "0.3186572501340962"
      ]
     },
     "metadata": {},
     "output_type": "display_data"
    }
   ],
   "source": [
    "\n",
    "def type_city(city):\n",
    "    million_cities = ['Новосибирск', 'Екатеринбург','Нижний Новгород','Казань', 'Челябинск','Омск', 'Самара', 'Ростов-на-Дону', 'Уфа', 'Красноярск', 'Пермь', 'Воронеж','Волгоград']\n",
    "    city_=city.split(',')[0].strip()\n",
    "    if city_ in million_cities:\n",
    "        return 'город-миллионник'\n",
    "    elif city_=='Москва' or city_=='Санкт-Петербург':\n",
    "        return city_\n",
    "    else:\n",
    "        return 'другие'   \n",
    "\n",
    "def get_ready_to_move(arg):\n",
    "    if ('не готов к переезду' in arg) or ('не готова к переезду' in arg):\n",
    "        return False\n",
    "    elif 'хочу' in arg:\n",
    "        return True\n",
    "    else:\n",
    "        return True\n",
    "\n",
    "def get_ready_for_bisiness_trips(arg):\n",
    "    if ('командировка' in arg):\n",
    "        if ('не готов к командировкам' in arg) or('не готова к командировкам' in arg):\n",
    "            return False\n",
    "        else: \n",
    "            \n",
    "            return True\n",
    "    else:\n",
    "        return False\n",
    "\n",
    "df['Город']=df['Город, переезд, командировки'].apply(type_city)\n",
    "display(df['Город'].value_counts(normalize=True))\n",
    "\n",
    "#df['Готовность к переезду']=df['Город, переезд, командировки'].apply(lambda x: 'не ' not in x.split(',')[1].strip())\n",
    "df['Готовность к переезду']=df['Город, переезд, командировки'].apply(get_ready_to_move)\n",
    "display(df['Готовность к переезду'].value_counts())\n",
    "\n",
    "df['Готовность к командировкам']=df['Город, переезд, командировки'].apply(get_ready_for_bisiness_trips)\n",
    "display(df['Готовность к командировкам'].value_counts())\n",
    "\n",
    "display(df[(df['Готовность к переезду']) & (df['Готовность к командировкам'])].shape[0]/df.shape[0])\n",
    "df = df.drop('Город, переезд, командировки', axis=1)\n",
    "\n",
    "#df['Город, переезд, командировки'].apply(lambda x: 'не' in x.split(',')[1].strip())"
   ]
  },
  {
   "cell_type": "markdown",
   "id": "0136ffee-0ead-4a6b-b608-61d1c753a438",
   "metadata": {},
   "source": [
    "5. Рассмотрим поближе признаки **\"Занятость\"** и **\"График\"**. Сейчас признаки представляют собой набор категорий желаемой занятости (полная занятость, частичная занятость, проектная работа, волонтерство, стажировка) и желаемого графика работы (полный день, сменный график, гибкий график, удаленная работа, вахтовый метод).\n",
    "На сайте hh.ru соискатель может указывать различные комбинации данных категорий, например:\n",
    "* полная занятость, частичная занятость\n",
    "* частичная занятость, проектная работа, волонтерство\n",
    "* полный день, удаленная работа\n",
    "* вахтовый метод, гибкий график, удаленная работа, полная занятость\n",
    "\n",
    "Такой вариант признаков имеет множество различных комбинаций, а значит множество уникальных значений, что мешает анализу. Нужно это исправить!\n",
    "\n",
    "Давайте создадим признаки-мигалки для каждой категории: если категория присутствует в списке желаемых соискателем, то в столбце на месте строки рассматриваемого соискателя ставится True, иначе - False.\n",
    "\n",
    "Такой метод преобразования категориальных признаков называется One Hot Encoding и его схема представлена на рисунке ниже:\n",
    "<img src=https://raw.githubusercontent.com/AndreyRysistov/DatasetsForPandas/main/ohe.jpg>\n",
    "Выполните данное преобразование для признаков \"Занятость\" и \"График\", ответьте на контрольные вопросы, после чего удалите их из таблицы"
   ]
  },
  {
   "cell_type": "code",
   "execution_count": 10,
   "id": "5b3a8e79-f7ab-4008-b767-12aea3a205ea",
   "metadata": {},
   "outputs": [],
   "source": [
    "#df['Занятость']=df['Занятость'].apply(lambda x: x.split(','))"
   ]
  },
  {
   "cell_type": "code",
   "execution_count": 11,
   "id": "81ec86b1",
   "metadata": {},
   "outputs": [
    {
     "name": "stdout",
     "output_type": "stream",
     "text": [
      "436\n",
      "2311\n"
     ]
    }
   ],
   "source": [
    "#полная занятость, частичная занятость, проектная работа, волонтёрство, стажировка)\n",
    "\n",
    "employments = ['полная занятость', 'частичная занятость',\n",
    "              'проектная работа', 'волонтерство', 'стажировка']\n",
    "charts = ['полный день', 'сменный график', \n",
    "         'гибкий график', 'удаленная работа',\n",
    "         'вахтовый метод']\n",
    "for employment, chart in zip(employments, charts):\n",
    "    df[employment] = df['Занятость'].apply(lambda x: employment in x)\n",
    "    df[chart] = df['График'].apply(lambda x: chart in x)\n",
    "df = df.drop('Занятость', axis=1)\n",
    "df = df.drop('График', axis=1)\n",
    "print(df[df['проектная работа'] & df['волонтерство']].shape[0])\n",
    "print(df[df['вахтовый метод'] & df['гибкий график']].shape[0])"
   ]
  },
  {
   "cell_type": "markdown",
   "id": "344f123c-b63b-43dd-a8a4-809c1f1bb443",
   "metadata": {},
   "source": [
    "6. (2 балла) Наконец, мы добрались до самого главного и самого важного - признака заработной платы **\"ЗП\"**. \n",
    "В чем наша беда? В том, что помимо желаемой заработной платы соискатель указывает валюту, в которой он бы хотел ее получать, например:\n",
    "* 30000 руб.\n",
    "* 50000 грн.\n",
    "* 550 USD\n",
    "\n",
    "Нам бы хотелось видеть заработную плату в единой валюте, например, в рублях. Возникает вопрос, а где взять курс валют по отношению к рублю?\n",
    "\n",
    "На самом деле язык Python имеет в арсенале огромное количество возможностей получения данной информации, от обращения к API Центробанка, до использования специальных библиотек, например pycbrf. Однако, это не тема нашего проекта.\n",
    "\n",
    "Поэтому мы пойдем в лоб: обратимся к специальным интернет-ресурсам для получения данных о курсе в виде текстовых файлов. Например, MDF.RU, данный ресурс позволяет удобно экспортировать данные о курсах различных валют и акций за указанные периоды в виде csv файлов. Мы уже сделали выгрузку курсов валют, которые встречаются в наших данных за период с 29.12.2017 по 05.12.2019. Скачать ее вы можете **на платформе**\n",
    "\n",
    "Создайте новый DataFrame из полученного файла. В полученной таблице нас будут интересовать столбцы:\n",
    "* \"currency\" - наименование валюты в ISO кодировке,\n",
    "* \"date\" - дата, \n",
    "* \"proportion\" - пропорция, \n",
    "* \"close\" - цена закрытия (последний зафиксированный курс валюты на указанный день).\n",
    "\n",
    "\n",
    "Перед вами таблица соответствия наименований иностранных валют в наших данных и их общепринятых сокращений, которые представлены в нашем файле с курсами валют. Пропорция - это число, за сколько единиц валюты указан курс в таблице с курсами. Например, для казахстанского тенге курс на 20.08.2019 составляет 17.197 руб. за 100 тенге, тогда итоговый курс равен - 17.197 / 100 = 0.17197 руб за 1 тенге.\n",
    "Воспользуйтесь этой информацией в ваших преобразованиях.\n",
    "\n",
    "<img src=https://raw.githubusercontent.com/AndreyRysistov/DatasetsForPandas/main/table.jpg>\n",
    "\n",
    "\n",
    "Осталось только понять, откуда брать дату, по которой определяется курс? А вот же она - в признаке **\"Обновление резюме\"**, в нем содержится дата и время, когда соискатель выложил текущий вариант своего резюме. Нас интересует только дата, по ней бы и будем сопоставлять курсы валют.\n",
    "\n",
    "Теперь у нас есть вся необходимая информация для того, чтобы создать признак \"ЗП (руб)\" - заработная плата в рублях.\n",
    "\n",
    "После ответа на контрольные вопросы удалите исходный столбец заработной платы \"ЗП\" и все промежуточные столбцы, если вы их создавали."
   ]
  },
  {
   "cell_type": "markdown",
   "id": "6d794257-61f5-4124-956b-67b92b9391a7",
   "metadata": {
    "tags": []
   },
   "source": [
    "Итак, давайте обсудим возможный алгоритм преобразования: \n",
    "1. Перевести признак \"Обновление резюме\" из таблицы с резюме в формат datetime и достать из него дату. В тот же формат привести признак \"date\" из таблицы с валютами.\n",
    "2. Выделить из столбца \"ЗП\" сумму желаемой заработной платы и наименование валюты, в которой она исчисляется. Наименование валюты перевести в стандарт ISO согласно с таблицей выше.\n",
    "3. Присоединить к таблице с резюме таблицу с курсами по столбцам с датой и названием валюты (подумайте, какой тип объединения надо выбрать, чтобы в таблице с резюме сохранились данные о заработной плате, изначально представленной в рублях). Значение close для рубля заполнить единицей 1 (курс рубля самого к себе)\n",
    "4. Умножить сумму желаемой заработной платы на присоединенный курс валюты (close) и разделить на пропорцию (обратите внимание на пропуски после объединения в этих столбцах), результат занести в новый столбец \"ЗП (руб)\".\n"
   ]
  },
  {
   "cell_type": "code",
   "execution_count": 12,
   "id": "e91f87ed-e25c-4f96-9f92-b642e8c0b4fa",
   "metadata": {},
   "outputs": [],
   "source": [
    "df['Обновление резюме']=pd.to_datetime(df['Обновление резюме'], dayfirst=True)\n",
    "df['Обновление резюме']=df['Обновление резюме'].dt.date\n",
    "df['ЗП_сумма']=df['ЗП'].apply(lambda x: x.split(' ')[0])\n",
    "df['ЗП_валюта']=df['ЗП'].apply(lambda x: x.split(' ')[1].strip())\n",
    "df['ЗП_сумма'].value_counts()\n",
    "\n",
    "ex_rates=pd.read_csv('data/ExchangeRates.csv')\n",
    "ex_rates['date']=pd.to_datetime(ex_rates['date'])\n",
    "ex_rates['date']=ex_rates['date'].dt.date\n",
    "ex_rates['ex_rate']=ex_rates['close'].astype('float')/ex_rates['proportion'].astype('float')\n",
    "ex_rates=ex_rates[[ 'date', 'currency', 'ex_rate']]\n",
    "\n",
    "df['ЗП_валюта']=df['ЗП_валюта'].replace({'бел.руб.': 'BYN', 'грн.': 'UAH', 'сум': 'UZS'})\n",
    "df=df.merge(right=ex_rates, how='left', left_on=['Обновление резюме', 'ЗП_валюта'], right_on=['date', 'currency'])\n",
    "df['ex_rate']=df['ex_rate'].fillna(1)\n",
    "df['ЗП (руб)']=df['ЗП_сумма'].astype('float')*df['ex_rate']"
   ]
  },
  {
   "cell_type": "code",
   "execution_count": 13,
   "id": "a0deea10",
   "metadata": {},
   "outputs": [
    {
     "data": {
      "text/plain": [
       "59000.0"
      ]
     },
     "execution_count": 13,
     "metadata": {},
     "output_type": "execute_result"
    }
   ],
   "source": [
    "df['ЗП (руб)'].median()"
   ]
  },
  {
   "cell_type": "code",
   "execution_count": 14,
   "id": "5f22dc93",
   "metadata": {},
   "outputs": [],
   "source": [
    "df = df.drop(['ЗП_сумма', 'ЗП_валюта', 'date', 'ex_rate',  'currency', 'ЗП'], axis=1)"
   ]
  },
  {
   "cell_type": "code",
   "execution_count": 15,
   "id": "c3f27f9b",
   "metadata": {},
   "outputs": [],
   "source": [
    "df = df.drop('Образование и ВУЗ', axis=1)"
   ]
  },
  {
   "cell_type": "markdown",
   "id": "7ea20ab6-04a7-40a0-adec-443a0e5a42c3",
   "metadata": {},
   "source": [
    "# Исследование зависимостей в данных"
   ]
  },
  {
   "cell_type": "markdown",
   "id": "968aed80-74ef-4ffb-b5bf-c65b84e9caea",
   "metadata": {},
   "source": [
    "1. Постройте распределение признака **\"Возраст\"**. Опишите распределение, отвечая на следующие вопросы: чему равна мода распределения, каковы предельные значения признака, в каком примерном интервале находится возраст большинства соискателей? Есть ли аномалии для признака возраста, какие значения вы бы причислили к их числу?\n",
    "*Совет: постройте гистограмму и коробчатую диаграмму рядом.*"
   ]
  },
  {
   "cell_type": "code",
   "execution_count": 16,
   "id": "f2d62796-d400-4ec1-a675-88112739a50e",
   "metadata": {},
   "outputs": [
    {
     "data": {
      "image/png": "[encoded data removed]",
      "text/plain": [
       "<Figure size 576x288 with 2 Axes>"
      ]
     },
     "metadata": {
      "needs_background": "light"
     },
     "output_type": "display_data"
    }
   ],
   "source": [
    "fig, axes=plt.subplots(nrows=1, ncols=2, figsize=(8,4))\n",
    "axes[0].hist(x=df['Возраст']);\n",
    "axes[1].boxplot(x=df['Возраст']);\n",
    "axes[0].set_title('Распределение соискателей по признаку Возраста')\n",
    "axes[0].set_ylabel('кол-во наблюдений')\n",
    "axes[0].set_xlabel('возраст')\n",
    "axes[1].set_ylabel('возраст')\n",
    "axes[1].set_xticklabels([]);\n",
    "\n",
    "#title='Распределение соискателей по признаку Возраст'"
   ]
  },
  {
   "cell_type": "code",
   "execution_count": 17,
   "id": "e7357431",
   "metadata": {},
   "outputs": [
    {
     "data": {
      "text/plain": [
       "1.1253329435773052"
      ]
     },
     "execution_count": 17,
     "metadata": {},
     "output_type": "execute_result"
    }
   ],
   "source": [
    "import scipy.stats as stats\n",
    "stats.skew(df['Возраст'], bias=False )"
   ]
  },
  {
   "cell_type": "code",
   "execution_count": 18,
   "id": "2f51ba60",
   "metadata": {},
   "outputs": [
    {
     "data": {
      "text/plain": [
       "0    30\n",
       "dtype: int32"
      ]
     },
     "execution_count": 18,
     "metadata": {},
     "output_type": "execute_result"
    }
   ],
   "source": [
    "df['Возраст'].mode()"
   ]
  },
  {
   "cell_type": "code",
   "execution_count": 19,
   "id": "d760c747",
   "metadata": {},
   "outputs": [
    {
     "data": {
      "text/plain": [
       "27.0"
      ]
     },
     "metadata": {},
     "output_type": "display_data"
    },
    {
     "data": {
      "text/plain": [
       "36.0"
      ]
     },
     "metadata": {},
     "output_type": "display_data"
    }
   ],
   "source": [
    "display(df['Возраст'].quantile(0.25))\n",
    "display(df['Возраст'].quantile(0.75))"
   ]
  },
  {
   "cell_type": "code",
   "execution_count": 20,
   "id": "8931c135",
   "metadata": {},
   "outputs": [
    {
     "data": {
      "text/html": [
       "<div>\n",
       "<style scoped>\n",
       "    .dataframe tbody tr th:only-of-type {\n",
       "        vertical-align: middle;\n",
       "    }\n",
       "\n",
       "    .dataframe tbody tr th {\n",
       "        vertical-align: top;\n",
       "    }\n",
       "\n",
       "    .dataframe thead th {\n",
       "        text-align: right;\n",
       "    }\n",
       "</style>\n",
       "<table border=\"1\" class=\"dataframe\">\n",
       "  <thead>\n",
       "    <tr style=\"text-align: right;\">\n",
       "      <th></th>\n",
       "      <th>Ищет работу на должность:</th>\n",
       "      <th>Последнее/нынешнее место работы</th>\n",
       "      <th>Последняя/нынешняя должность</th>\n",
       "      <th>Обновление резюме</th>\n",
       "      <th>Авто</th>\n",
       "      <th>Образование</th>\n",
       "      <th>Пол</th>\n",
       "      <th>Возраст</th>\n",
       "      <th>Опыт работы (месяц)</th>\n",
       "      <th>Город</th>\n",
       "      <th>...</th>\n",
       "      <th>полный день</th>\n",
       "      <th>частичная занятость</th>\n",
       "      <th>сменный график</th>\n",
       "      <th>проектная работа</th>\n",
       "      <th>гибкий график</th>\n",
       "      <th>волонтерство</th>\n",
       "      <th>удаленная работа</th>\n",
       "      <th>стажировка</th>\n",
       "      <th>вахтовый метод</th>\n",
       "      <th>ЗП (руб)</th>\n",
       "    </tr>\n",
       "  </thead>\n",
       "  <tbody>\n",
       "    <tr>\n",
       "      <th>33654</th>\n",
       "      <td>Frontend-разработчик</td>\n",
       "      <td>Freelance</td>\n",
       "      <td>Frontend-разработчик</td>\n",
       "      <td>2019-04-19</td>\n",
       "      <td>Не указано</td>\n",
       "      <td>Среднее специальное образование</td>\n",
       "      <td>М</td>\n",
       "      <td>100</td>\n",
       "      <td>30.0</td>\n",
       "      <td>Санкт-Петербург</td>\n",
       "      <td>...</td>\n",
       "      <td>True</td>\n",
       "      <td>True</td>\n",
       "      <td>False</td>\n",
       "      <td>True</td>\n",
       "      <td>True</td>\n",
       "      <td>False</td>\n",
       "      <td>True</td>\n",
       "      <td>True</td>\n",
       "      <td>False</td>\n",
       "      <td>60000.0</td>\n",
       "    </tr>\n",
       "  </tbody>\n",
       "</table>\n",
       "<p>1 rows × 23 columns</p>\n",
       "</div>"
      ],
      "text/plain": [
       "      Ищет работу на должность: Последнее/нынешнее место работы  \\\n",
       "33654      Frontend-разработчик                       Freelance   \n",
       "\n",
       "      Последняя/нынешняя должность Обновление резюме        Авто  \\\n",
       "33654         Frontend-разработчик        2019-04-19  Не указано   \n",
       "\n",
       "                            Образование Пол  Возраст  Опыт работы (месяц)  \\\n",
       "33654  Среднее специальное образование    М      100                 30.0   \n",
       "\n",
       "                 Город  ...  полный день  частичная занятость  сменный график  \\\n",
       "33654  Санкт-Петербург  ...         True                 True           False   \n",
       "\n",
       "       проектная работа  гибкий график  волонтерство  удаленная работа  \\\n",
       "33654              True           True         False              True   \n",
       "\n",
       "       стажировка  вахтовый метод  ЗП (руб)  \n",
       "33654        True           False   60000.0  \n",
       "\n",
       "[1 rows x 23 columns]"
      ]
     },
     "metadata": {},
     "output_type": "display_data"
    },
    {
     "data": {
      "text/html": [
       "<div>\n",
       "<style scoped>\n",
       "    .dataframe tbody tr th:only-of-type {\n",
       "        vertical-align: middle;\n",
       "    }\n",
       "\n",
       "    .dataframe tbody tr th {\n",
       "        vertical-align: top;\n",
       "    }\n",
       "\n",
       "    .dataframe thead th {\n",
       "        text-align: right;\n",
       "    }\n",
       "</style>\n",
       "<table border=\"1\" class=\"dataframe\">\n",
       "  <thead>\n",
       "    <tr style=\"text-align: right;\">\n",
       "      <th></th>\n",
       "      <th>Ищет работу на должность:</th>\n",
       "      <th>Последнее/нынешнее место работы</th>\n",
       "      <th>Последняя/нынешняя должность</th>\n",
       "      <th>Обновление резюме</th>\n",
       "      <th>Авто</th>\n",
       "      <th>Образование</th>\n",
       "      <th>Пол</th>\n",
       "      <th>Возраст</th>\n",
       "      <th>Опыт работы (месяц)</th>\n",
       "      <th>Город</th>\n",
       "      <th>...</th>\n",
       "      <th>частичная занятость</th>\n",
       "      <th>сменный график</th>\n",
       "      <th>проектная работа</th>\n",
       "      <th>гибкий график</th>\n",
       "      <th>волонтерство</th>\n",
       "      <th>удаленная работа</th>\n",
       "      <th>стажировка</th>\n",
       "      <th>вахтовый метод</th>\n",
       "      <th>ЗП (руб)</th>\n",
       "      <th>соотношение опыта к возрасту</th>\n",
       "    </tr>\n",
       "  </thead>\n",
       "  <tbody>\n",
       "    <tr>\n",
       "      <th>29098</th>\n",
       "      <td>Ведущий инженер-программист</td>\n",
       "      <td>КБ Аметист, Концерн АГАТ</td>\n",
       "      <td>Ведущий инженер-программист</td>\n",
       "      <td>2019-04-26</td>\n",
       "      <td>Не указано</td>\n",
       "      <td>Высшее образование</td>\n",
       "      <td>М</td>\n",
       "      <td>14</td>\n",
       "      <td>477.0</td>\n",
       "      <td>Москва</td>\n",
       "      <td>...</td>\n",
       "      <td>False</td>\n",
       "      <td>False</td>\n",
       "      <td>False</td>\n",
       "      <td>False</td>\n",
       "      <td>False</td>\n",
       "      <td>False</td>\n",
       "      <td>False</td>\n",
       "      <td>False</td>\n",
       "      <td>60000.0</td>\n",
       "      <td>-501.0</td>\n",
       "    </tr>\n",
       "    <tr>\n",
       "      <th>4535</th>\n",
       "      <td>Технический специалист</td>\n",
       "      <td>а</td>\n",
       "      <td>а</td>\n",
       "      <td>2019-04-11</td>\n",
       "      <td>Не указано</td>\n",
       "      <td>Среднее специальное образование</td>\n",
       "      <td>Ж</td>\n",
       "      <td>18</td>\n",
       "      <td>271.0</td>\n",
       "      <td>другие</td>\n",
       "      <td>...</td>\n",
       "      <td>True</td>\n",
       "      <td>True</td>\n",
       "      <td>True</td>\n",
       "      <td>False</td>\n",
       "      <td>False</td>\n",
       "      <td>True</td>\n",
       "      <td>False</td>\n",
       "      <td>False</td>\n",
       "      <td>15000.0</td>\n",
       "      <td>-247.0</td>\n",
       "    </tr>\n",
       "    <tr>\n",
       "      <th>2781</th>\n",
       "      <td>Менеджер по маркетингу на Youtube</td>\n",
       "      <td>Youtube</td>\n",
       "      <td>Владелец канал</td>\n",
       "      <td>2019-04-11</td>\n",
       "      <td>Не указано</td>\n",
       "      <td>Среднее специальное образование</td>\n",
       "      <td>М</td>\n",
       "      <td>17</td>\n",
       "      <td>70.0</td>\n",
       "      <td>Санкт-Петербург</td>\n",
       "      <td>...</td>\n",
       "      <td>False</td>\n",
       "      <td>False</td>\n",
       "      <td>False</td>\n",
       "      <td>False</td>\n",
       "      <td>False</td>\n",
       "      <td>False</td>\n",
       "      <td>False</td>\n",
       "      <td>False</td>\n",
       "      <td>40000.0</td>\n",
       "      <td>-58.0</td>\n",
       "    </tr>\n",
       "    <tr>\n",
       "      <th>5938</th>\n",
       "      <td>Менеджер по маркетингу на Youtube</td>\n",
       "      <td>Youtube</td>\n",
       "      <td>Владелец канал</td>\n",
       "      <td>2019-04-11</td>\n",
       "      <td>Не указано</td>\n",
       "      <td>Среднее специальное образование</td>\n",
       "      <td>М</td>\n",
       "      <td>17</td>\n",
       "      <td>70.0</td>\n",
       "      <td>Санкт-Петербург</td>\n",
       "      <td>...</td>\n",
       "      <td>False</td>\n",
       "      <td>False</td>\n",
       "      <td>False</td>\n",
       "      <td>False</td>\n",
       "      <td>False</td>\n",
       "      <td>False</td>\n",
       "      <td>False</td>\n",
       "      <td>False</td>\n",
       "      <td>40000.0</td>\n",
       "      <td>-58.0</td>\n",
       "    </tr>\n",
       "    <tr>\n",
       "      <th>31054</th>\n",
       "      <td>Программист Java</td>\n",
       "      <td>Google Inc.</td>\n",
       "      <td>Менеджер проекта</td>\n",
       "      <td>2019-04-26</td>\n",
       "      <td>Не указано</td>\n",
       "      <td>Высшее образование</td>\n",
       "      <td>М</td>\n",
       "      <td>17</td>\n",
       "      <td>60.0</td>\n",
       "      <td>другие</td>\n",
       "      <td>...</td>\n",
       "      <td>False</td>\n",
       "      <td>False</td>\n",
       "      <td>False</td>\n",
       "      <td>False</td>\n",
       "      <td>False</td>\n",
       "      <td>False</td>\n",
       "      <td>False</td>\n",
       "      <td>False</td>\n",
       "      <td>170151.0</td>\n",
       "      <td>-48.0</td>\n",
       "    </tr>\n",
       "  </tbody>\n",
       "</table>\n",
       "<p>5 rows × 24 columns</p>\n",
       "</div>"
      ],
      "text/plain": [
       "               Ищет работу на должность: Последнее/нынешнее место работы  \\\n",
       "29098        Ведущий инженер-программист        КБ Аметист, Концерн АГАТ   \n",
       "4535              Технический специалист                               а   \n",
       "2781   Менеджер по маркетингу на Youtube                         Youtube   \n",
       "5938   Менеджер по маркетингу на Youtube                         Youtube   \n",
       "31054                   Программист Java                     Google Inc.   \n",
       "\n",
       "      Последняя/нынешняя должность Обновление резюме        Авто  \\\n",
       "29098  Ведущий инженер-программист        2019-04-26  Не указано   \n",
       "4535                             а        2019-04-11  Не указано   \n",
       "2781                Владелец канал        2019-04-11  Не указано   \n",
       "5938                Владелец канал        2019-04-11  Не указано   \n",
       "31054             Менеджер проекта        2019-04-26  Не указано   \n",
       "\n",
       "                            Образование Пол  Возраст  Опыт работы (месяц)  \\\n",
       "29098               Высшее образование    М       14                477.0   \n",
       "4535   Среднее специальное образование    Ж       18                271.0   \n",
       "2781   Среднее специальное образование    М       17                 70.0   \n",
       "5938   Среднее специальное образование    М       17                 70.0   \n",
       "31054               Высшее образование    М       17                 60.0   \n",
       "\n",
       "                 Город  ...  частичная занятость  сменный график  \\\n",
       "29098           Москва  ...                False           False   \n",
       "4535            другие  ...                 True            True   \n",
       "2781   Санкт-Петербург  ...                False           False   \n",
       "5938   Санкт-Петербург  ...                False           False   \n",
       "31054           другие  ...                False           False   \n",
       "\n",
       "       проектная работа  гибкий график  волонтерство  удаленная работа  \\\n",
       "29098             False          False         False             False   \n",
       "4535               True          False         False              True   \n",
       "2781              False          False         False             False   \n",
       "5938              False          False         False             False   \n",
       "31054             False          False         False             False   \n",
       "\n",
       "       стажировка  вахтовый метод  ЗП (руб)  соотношение опыта к возрасту  \n",
       "29098       False           False   60000.0                        -501.0  \n",
       "4535        False           False   15000.0                        -247.0  \n",
       "2781        False           False   40000.0                         -58.0  \n",
       "5938        False           False   40000.0                         -58.0  \n",
       "31054       False           False  170151.0                         -48.0  \n",
       "\n",
       "[5 rows x 24 columns]"
      ]
     },
     "metadata": {},
     "output_type": "display_data"
    }
   ],
   "source": [
    "display(df[df['Возраст']>80])\n",
    "df['соотношение опыта к возрасту']=df['Возраст']*12-df['Опыт работы (месяц)']-16*12 #16- условная граница начала, когда человек может начать работать\n",
    "display(df[(df['соотношение опыта к возрасту']<0) & (df['Возраст']<=18) ].sort_values('Опыт работы (месяц)', ascending=False).head())"
   ]
  },
  {
   "attachments": {},
   "cell_type": "markdown",
   "id": "1af25f49",
   "metadata": {},
   "source": [
    "Положительная величина коэффициента асимметрии указывает на наличие правосторонней асимметрии, в распределении появляются преимущественно более высокие значения признака. Мода распределения составляет - 30 лет, основная доля наблюдений лежит в промежутке [27;36]\n",
    "К аномалиянм бы отнесла наблюдение с показателем = 100лет, а также смущают резюме в которых указан солидный опыт работы, но при этом возраст не превышает 18-20 лет. К выбросам я бы отнесла кандидатов 29098, 4535 (показатели возраста прочих кандидатов в данном списке не стала бы относить к выбросам, т.к. деятельность связана с направлениями, в которых молодое поколение может начать развиваться достаточно с юного возраста 2781, 5938, 31054 )"
   ]
  },
  {
   "cell_type": "code",
   "execution_count": 21,
   "id": "42d6f4d4",
   "metadata": {},
   "outputs": [],
   "source": [
    "#df=df.drop('соотношение опыта к возрасту', axis=1)"
   ]
  },
  {
   "cell_type": "markdown",
   "id": "68377cfc-b378-43dc-ab7d-1195abf2c515",
   "metadata": {},
   "source": [
    "2. Постройте распределение признака **\"Опыт работы (месяц)\"**. Опишите данное распределение, отвечая на следующие вопросы: чему равна мода распределения, каковы предельные значения признака, в каком примерном интервале находится опыт работы большинства соискателей? Есть ли аномалии для признака опыта работы, какие значения вы бы причислили к их числу?\n",
    "*Совет: постройте гистограмму и коробчатую диаграмму рядом.*"
   ]
  },
  {
   "cell_type": "code",
   "execution_count": 22,
   "id": "dd7df27a-e3e8-412e-a21a-5d389b71e891",
   "metadata": {},
   "outputs": [
    {
     "name": "stderr",
     "output_type": "stream",
     "text": [
      "c:\\Users\\novikova_a\\Anaconda3\\lib\\site-packages\\numpy\\lib\\histograms.py:839: RuntimeWarning: invalid value encountered in greater_equal\n",
      "  keep = (tmp_a >= first_edge)\n",
      "c:\\Users\\novikova_a\\Anaconda3\\lib\\site-packages\\numpy\\lib\\histograms.py:840: RuntimeWarning: invalid value encountered in less_equal\n",
      "  keep &= (tmp_a <= last_edge)\n"
     ]
    },
    {
     "data": {
      "image/png": "[encoded data removed]",
      "text/plain": [
       "<Figure size 576x288 with 1 Axes>"
      ]
     },
     "metadata": {
      "needs_background": "light"
     },
     "output_type": "display_data"
    }
   ],
   "source": [
    "fig, axes=plt.subplots( figsize=(8,4))\n",
    "axes.hist(x=df['Опыт работы (месяц)']);\n",
    "axes.set_title('Распределение соискателей по признаку Опыта работы')\n",
    "axes.set_ylabel('кол-во наблюдений')\n",
    "axes.set_xlabel('месяцы');"
   ]
  },
  {
   "cell_type": "code",
   "execution_count": 23,
   "id": "de19287b",
   "metadata": {},
   "outputs": [
    {
     "data": {
      "image/png": "[encoded data removed]",
      "text/plain": [
       "<Figure size 432x288 with 1 Axes>"
      ]
     },
     "metadata": {
      "needs_background": "light"
     },
     "output_type": "display_data"
    }
   ],
   "source": [
    "df['Опыт работы (месяц)'].plot(kind='box', title='Распределение кандидатов по опыту работы');"
   ]
  },
  {
   "cell_type": "code",
   "execution_count": 24,
   "id": "c70f3a36",
   "metadata": {},
   "outputs": [
    {
     "data": {
      "text/plain": [
       "nan"
      ]
     },
     "execution_count": 24,
     "metadata": {},
     "output_type": "execute_result"
    }
   ],
   "source": [
    "stats.skew(df['Опыт работы (месяц)'], bias=False )"
   ]
  },
  {
   "cell_type": "code",
   "execution_count": 25,
   "id": "4aef6f16",
   "metadata": {},
   "outputs": [
    {
     "data": {
      "text/plain": [
       "0    81.0\n",
       "dtype: float64"
      ]
     },
     "execution_count": 25,
     "metadata": {},
     "output_type": "execute_result"
    }
   ],
   "source": [
    "df['Опыт работы (месяц)'].mode()"
   ]
  },
  {
   "cell_type": "code",
   "execution_count": 26,
   "id": "a556954e",
   "metadata": {},
   "outputs": [
    {
     "data": {
      "text/plain": [
       "57.0"
      ]
     },
     "metadata": {},
     "output_type": "display_data"
    },
    {
     "data": {
      "text/plain": [
       "154.0"
      ]
     },
     "metadata": {},
     "output_type": "display_data"
    }
   ],
   "source": [
    "display(df['Опыт работы (месяц)'].quantile(0.25))\n",
    "display(df['Опыт работы (месяц)'].quantile(0.75))"
   ]
  },
  {
   "cell_type": "code",
   "execution_count": 27,
   "id": "8657104b",
   "metadata": {},
   "outputs": [
    {
     "data": {
      "text/html": [
       "<div>\n",
       "<style scoped>\n",
       "    .dataframe tbody tr th:only-of-type {\n",
       "        vertical-align: middle;\n",
       "    }\n",
       "\n",
       "    .dataframe tbody tr th {\n",
       "        vertical-align: top;\n",
       "    }\n",
       "\n",
       "    .dataframe thead th {\n",
       "        text-align: right;\n",
       "    }\n",
       "</style>\n",
       "<table border=\"1\" class=\"dataframe\">\n",
       "  <thead>\n",
       "    <tr style=\"text-align: right;\">\n",
       "      <th></th>\n",
       "      <th>Ищет работу на должность:</th>\n",
       "      <th>Последнее/нынешнее место работы</th>\n",
       "      <th>Последняя/нынешняя должность</th>\n",
       "      <th>Обновление резюме</th>\n",
       "      <th>Авто</th>\n",
       "      <th>Образование</th>\n",
       "      <th>Пол</th>\n",
       "      <th>Возраст</th>\n",
       "      <th>Опыт работы (месяц)</th>\n",
       "      <th>Город</th>\n",
       "      <th>...</th>\n",
       "      <th>частичная занятость</th>\n",
       "      <th>сменный график</th>\n",
       "      <th>проектная работа</th>\n",
       "      <th>гибкий график</th>\n",
       "      <th>волонтерство</th>\n",
       "      <th>удаленная работа</th>\n",
       "      <th>стажировка</th>\n",
       "      <th>вахтовый метод</th>\n",
       "      <th>ЗП (руб)</th>\n",
       "      <th>соотношение опыта к возрасту</th>\n",
       "    </tr>\n",
       "  </thead>\n",
       "  <tbody>\n",
       "    <tr>\n",
       "      <th>64</th>\n",
       "      <td>Системный администратор</td>\n",
       "      <td>Санкт-Петербургский государственный университе...</td>\n",
       "      <td>Санкт-Петербургский колледж телекоммуникаций</td>\n",
       "      <td>2019-04-14</td>\n",
       "      <td>Не указано</td>\n",
       "      <td>Высшее образование</td>\n",
       "      <td>М</td>\n",
       "      <td>33</td>\n",
       "      <td>NaN</td>\n",
       "      <td>Санкт-Петербург</td>\n",
       "      <td>...</td>\n",
       "      <td>False</td>\n",
       "      <td>False</td>\n",
       "      <td>False</td>\n",
       "      <td>True</td>\n",
       "      <td>False</td>\n",
       "      <td>True</td>\n",
       "      <td>False</td>\n",
       "      <td>False</td>\n",
       "      <td>10000.0</td>\n",
       "      <td>NaN</td>\n",
       "    </tr>\n",
       "    <tr>\n",
       "      <th>118</th>\n",
       "      <td>Специалист в службу поддержки Медиасервисов Ян...</td>\n",
       "      <td>ЧЛК</td>\n",
       "      <td>Забайкальский государственный гуманитарно-педа...</td>\n",
       "      <td>2019-04-17</td>\n",
       "      <td>Не указано</td>\n",
       "      <td>Высшее образование</td>\n",
       "      <td>Ж</td>\n",
       "      <td>40</td>\n",
       "      <td>NaN</td>\n",
       "      <td>город-миллионник</td>\n",
       "      <td>...</td>\n",
       "      <td>False</td>\n",
       "      <td>False</td>\n",
       "      <td>False</td>\n",
       "      <td>False</td>\n",
       "      <td>False</td>\n",
       "      <td>False</td>\n",
       "      <td>False</td>\n",
       "      <td>False</td>\n",
       "      <td>30000.0</td>\n",
       "      <td>NaN</td>\n",
       "    </tr>\n",
       "    <tr>\n",
       "      <th>330</th>\n",
       "      <td>Мастер по ремонту компьютеров</td>\n",
       "      <td>Томский государственный университет систем упр...</td>\n",
       "      <td>Не указано</td>\n",
       "      <td>2019-04-16</td>\n",
       "      <td>Имеется собственный автомобиль</td>\n",
       "      <td>Неоконченное высшее образование</td>\n",
       "      <td>М</td>\n",
       "      <td>21</td>\n",
       "      <td>NaN</td>\n",
       "      <td>другие</td>\n",
       "      <td>...</td>\n",
       "      <td>True</td>\n",
       "      <td>True</td>\n",
       "      <td>True</td>\n",
       "      <td>True</td>\n",
       "      <td>False</td>\n",
       "      <td>False</td>\n",
       "      <td>False</td>\n",
       "      <td>False</td>\n",
       "      <td>50000.0</td>\n",
       "      <td>NaN</td>\n",
       "    </tr>\n",
       "    <tr>\n",
       "      <th>413</th>\n",
       "      <td>SMM-менеджер</td>\n",
       "      <td>ФГБОУ ВПО МГУ им. Н.П. Огарева</td>\n",
       "      <td>Не указано</td>\n",
       "      <td>2019-04-21</td>\n",
       "      <td>Не указано</td>\n",
       "      <td>Высшее образование</td>\n",
       "      <td>М</td>\n",
       "      <td>25</td>\n",
       "      <td>NaN</td>\n",
       "      <td>другие</td>\n",
       "      <td>...</td>\n",
       "      <td>True</td>\n",
       "      <td>True</td>\n",
       "      <td>True</td>\n",
       "      <td>True</td>\n",
       "      <td>False</td>\n",
       "      <td>False</td>\n",
       "      <td>False</td>\n",
       "      <td>False</td>\n",
       "      <td>25000.0</td>\n",
       "      <td>NaN</td>\n",
       "    </tr>\n",
       "    <tr>\n",
       "      <th>1170</th>\n",
       "      <td>Мастер по ремонту компьютеров</td>\n",
       "      <td>ФЖАТ</td>\n",
       "      <td>Не указано</td>\n",
       "      <td>2019-04-15</td>\n",
       "      <td>Не указано</td>\n",
       "      <td>Среднее специальное образование</td>\n",
       "      <td>М</td>\n",
       "      <td>22</td>\n",
       "      <td>NaN</td>\n",
       "      <td>другие</td>\n",
       "      <td>...</td>\n",
       "      <td>False</td>\n",
       "      <td>False</td>\n",
       "      <td>False</td>\n",
       "      <td>False</td>\n",
       "      <td>False</td>\n",
       "      <td>False</td>\n",
       "      <td>False</td>\n",
       "      <td>False</td>\n",
       "      <td>40000.0</td>\n",
       "      <td>NaN</td>\n",
       "    </tr>\n",
       "  </tbody>\n",
       "</table>\n",
       "<p>5 rows × 24 columns</p>\n",
       "</div>"
      ],
      "text/plain": [
       "                              Ищет работу на должность:  \\\n",
       "64                              Системный администратор   \n",
       "118   Специалист в службу поддержки Медиасервисов Ян...   \n",
       "330                       Мастер по ремонту компьютеров   \n",
       "413                                        SMM-менеджер   \n",
       "1170                      Мастер по ремонту компьютеров   \n",
       "\n",
       "                        Последнее/нынешнее место работы  \\\n",
       "64    Санкт-Петербургский государственный университе...   \n",
       "118                                                 ЧЛК   \n",
       "330   Томский государственный университет систем упр...   \n",
       "413                      ФГБОУ ВПО МГУ им. Н.П. Огарева   \n",
       "1170                                               ФЖАТ   \n",
       "\n",
       "                           Последняя/нынешняя должность Обновление резюме  \\\n",
       "64         Санкт-Петербургский колледж телекоммуникаций        2019-04-14   \n",
       "118   Забайкальский государственный гуманитарно-педа...        2019-04-17   \n",
       "330                                          Не указано        2019-04-16   \n",
       "413                                          Не указано        2019-04-21   \n",
       "1170                                         Не указано        2019-04-15   \n",
       "\n",
       "                                Авто                       Образование Пол  \\\n",
       "64                        Не указано               Высшее образование    М   \n",
       "118                       Не указано               Высшее образование    Ж   \n",
       "330   Имеется собственный автомобиль  Неоконченное высшее образование    М   \n",
       "413                       Не указано               Высшее образование    М   \n",
       "1170                      Не указано  Среднее специальное образование    М   \n",
       "\n",
       "      Возраст  Опыт работы (месяц)             Город  ...  \\\n",
       "64         33                  NaN   Санкт-Петербург  ...   \n",
       "118        40                  NaN  город-миллионник  ...   \n",
       "330        21                  NaN            другие  ...   \n",
       "413        25                  NaN            другие  ...   \n",
       "1170       22                  NaN            другие  ...   \n",
       "\n",
       "      частичная занятость  сменный график  проектная работа  гибкий график  \\\n",
       "64                  False           False             False           True   \n",
       "118                 False           False             False          False   \n",
       "330                  True            True              True           True   \n",
       "413                  True            True              True           True   \n",
       "1170                False           False             False          False   \n",
       "\n",
       "      волонтерство  удаленная работа  стажировка  вахтовый метод  ЗП (руб)  \\\n",
       "64           False              True       False           False   10000.0   \n",
       "118          False             False       False           False   30000.0   \n",
       "330          False             False       False           False   50000.0   \n",
       "413          False             False       False           False   25000.0   \n",
       "1170         False             False       False           False   40000.0   \n",
       "\n",
       "      соотношение опыта к возрасту  \n",
       "64                             NaN  \n",
       "118                            NaN  \n",
       "330                            NaN  \n",
       "413                            NaN  \n",
       "1170                           NaN  \n",
       "\n",
       "[5 rows x 24 columns]"
      ]
     },
     "metadata": {},
     "output_type": "display_data"
    }
   ],
   "source": [
    "display(df[df['Опыт работы (месяц)'].isna()].head())"
   ]
  },
  {
   "cell_type": "code",
   "execution_count": 28,
   "id": "1825e0dd",
   "metadata": {},
   "outputs": [
    {
     "data": {
      "text/html": [
       "<div>\n",
       "<style scoped>\n",
       "    .dataframe tbody tr th:only-of-type {\n",
       "        vertical-align: middle;\n",
       "    }\n",
       "\n",
       "    .dataframe tbody tr th {\n",
       "        vertical-align: top;\n",
       "    }\n",
       "\n",
       "    .dataframe thead th {\n",
       "        text-align: right;\n",
       "    }\n",
       "</style>\n",
       "<table border=\"1\" class=\"dataframe\">\n",
       "  <thead>\n",
       "    <tr style=\"text-align: right;\">\n",
       "      <th></th>\n",
       "      <th>Ищет работу на должность:</th>\n",
       "      <th>Последнее/нынешнее место работы</th>\n",
       "      <th>Последняя/нынешняя должность</th>\n",
       "      <th>Обновление резюме</th>\n",
       "      <th>Авто</th>\n",
       "      <th>Образование</th>\n",
       "      <th>Пол</th>\n",
       "      <th>Возраст</th>\n",
       "      <th>Опыт работы (месяц)</th>\n",
       "      <th>Город</th>\n",
       "      <th>...</th>\n",
       "      <th>частичная занятость</th>\n",
       "      <th>сменный график</th>\n",
       "      <th>проектная работа</th>\n",
       "      <th>гибкий график</th>\n",
       "      <th>волонтерство</th>\n",
       "      <th>удаленная работа</th>\n",
       "      <th>стажировка</th>\n",
       "      <th>вахтовый метод</th>\n",
       "      <th>ЗП (руб)</th>\n",
       "      <th>соотношение опыта к возрасту</th>\n",
       "    </tr>\n",
       "  </thead>\n",
       "  <tbody>\n",
       "    <tr>\n",
       "      <th>40015</th>\n",
       "      <td>Системный администратор Windows</td>\n",
       "      <td>АО ТК Горизонт</td>\n",
       "      <td>Начальник отдела информационных технологий</td>\n",
       "      <td>2019-04-16</td>\n",
       "      <td>Не указано</td>\n",
       "      <td>Высшее образование</td>\n",
       "      <td>М</td>\n",
       "      <td>48</td>\n",
       "      <td>1188.0</td>\n",
       "      <td>город-миллионник</td>\n",
       "      <td>...</td>\n",
       "      <td>True</td>\n",
       "      <td>False</td>\n",
       "      <td>False</td>\n",
       "      <td>True</td>\n",
       "      <td>False</td>\n",
       "      <td>True</td>\n",
       "      <td>False</td>\n",
       "      <td>True</td>\n",
       "      <td>60000.0</td>\n",
       "      <td>-804.0</td>\n",
       "    </tr>\n",
       "    <tr>\n",
       "      <th>29098</th>\n",
       "      <td>Ведущий инженер-программист</td>\n",
       "      <td>КБ Аметист, Концерн АГАТ</td>\n",
       "      <td>Ведущий инженер-программист</td>\n",
       "      <td>2019-04-26</td>\n",
       "      <td>Не указано</td>\n",
       "      <td>Высшее образование</td>\n",
       "      <td>М</td>\n",
       "      <td>14</td>\n",
       "      <td>477.0</td>\n",
       "      <td>Москва</td>\n",
       "      <td>...</td>\n",
       "      <td>False</td>\n",
       "      <td>False</td>\n",
       "      <td>False</td>\n",
       "      <td>False</td>\n",
       "      <td>False</td>\n",
       "      <td>False</td>\n",
       "      <td>False</td>\n",
       "      <td>False</td>\n",
       "      <td>60000.0</td>\n",
       "      <td>-501.0</td>\n",
       "    </tr>\n",
       "    <tr>\n",
       "      <th>19351</th>\n",
       "      <td>Специалист (Junior-программист)</td>\n",
       "      <td>Русский свет, ООО</td>\n",
       "      <td>Электрик</td>\n",
       "      <td>2019-04-26</td>\n",
       "      <td>Не указано</td>\n",
       "      <td>Высшее образование</td>\n",
       "      <td>М</td>\n",
       "      <td>28</td>\n",
       "      <td>470.0</td>\n",
       "      <td>другие</td>\n",
       "      <td>...</td>\n",
       "      <td>False</td>\n",
       "      <td>False</td>\n",
       "      <td>False</td>\n",
       "      <td>False</td>\n",
       "      <td>False</td>\n",
       "      <td>False</td>\n",
       "      <td>False</td>\n",
       "      <td>False</td>\n",
       "      <td>20000.0</td>\n",
       "      <td>-326.0</td>\n",
       "    </tr>\n",
       "    <tr>\n",
       "      <th>19872</th>\n",
       "      <td>Аналитик</td>\n",
       "      <td>Kyivstar</td>\n",
       "      <td>Фахівець з опису бізнес процесів</td>\n",
       "      <td>2019-04-26</td>\n",
       "      <td>Не указано</td>\n",
       "      <td>Высшее образование</td>\n",
       "      <td>М</td>\n",
       "      <td>34</td>\n",
       "      <td>416.0</td>\n",
       "      <td>другие</td>\n",
       "      <td>...</td>\n",
       "      <td>False</td>\n",
       "      <td>False</td>\n",
       "      <td>False</td>\n",
       "      <td>False</td>\n",
       "      <td>False</td>\n",
       "      <td>False</td>\n",
       "      <td>False</td>\n",
       "      <td>False</td>\n",
       "      <td>60740.5</td>\n",
       "      <td>-200.0</td>\n",
       "    </tr>\n",
       "    <tr>\n",
       "      <th>26477</th>\n",
       "      <td>Менеджер IT-проектов</td>\n",
       "      <td>М©й IT'M  (\"Информационные Технологии' Менеджм...</td>\n",
       "      <td>Основатель</td>\n",
       "      <td>2019-04-08</td>\n",
       "      <td>Не указано</td>\n",
       "      <td>Высшее образование</td>\n",
       "      <td>М</td>\n",
       "      <td>34</td>\n",
       "      <td>411.0</td>\n",
       "      <td>Санкт-Петербург</td>\n",
       "      <td>...</td>\n",
       "      <td>True</td>\n",
       "      <td>True</td>\n",
       "      <td>True</td>\n",
       "      <td>True</td>\n",
       "      <td>True</td>\n",
       "      <td>True</td>\n",
       "      <td>True</td>\n",
       "      <td>True</td>\n",
       "      <td>80000.0</td>\n",
       "      <td>-195.0</td>\n",
       "    </tr>\n",
       "    <tr>\n",
       "      <th>43451</th>\n",
       "      <td>Руководитель отдела разработки</td>\n",
       "      <td>ЛАНИТ</td>\n",
       "      <td>Руководитель проекта</td>\n",
       "      <td>2018-08-17</td>\n",
       "      <td>Не указано</td>\n",
       "      <td>Высшее образование</td>\n",
       "      <td>М</td>\n",
       "      <td>36</td>\n",
       "      <td>434.0</td>\n",
       "      <td>Москва</td>\n",
       "      <td>...</td>\n",
       "      <td>False</td>\n",
       "      <td>False</td>\n",
       "      <td>False</td>\n",
       "      <td>False</td>\n",
       "      <td>False</td>\n",
       "      <td>False</td>\n",
       "      <td>False</td>\n",
       "      <td>False</td>\n",
       "      <td>200000.0</td>\n",
       "      <td>-194.0</td>\n",
       "    </tr>\n",
       "  </tbody>\n",
       "</table>\n",
       "<p>6 rows × 24 columns</p>\n",
       "</div>"
      ],
      "text/plain": [
       "             Ищет работу на должность:  \\\n",
       "40015  Системный администратор Windows   \n",
       "29098      Ведущий инженер-программист   \n",
       "19351  Специалист (Junior-программист)   \n",
       "19872                         Аналитик   \n",
       "26477             Менеджер IT-проектов   \n",
       "43451   Руководитель отдела разработки   \n",
       "\n",
       "                         Последнее/нынешнее место работы  \\\n",
       "40015                                     АО ТК Горизонт   \n",
       "29098                           КБ Аметист, Концерн АГАТ   \n",
       "19351                                  Русский свет, ООО   \n",
       "19872                                           Kyivstar   \n",
       "26477  М©й IT'M  (\"Информационные Технологии' Менеджм...   \n",
       "43451                                              ЛАНИТ   \n",
       "\n",
       "                     Последняя/нынешняя должность Обновление резюме  \\\n",
       "40015  Начальник отдела информационных технологий        2019-04-16   \n",
       "29098                 Ведущий инженер-программист        2019-04-26   \n",
       "19351                                    Электрик        2019-04-26   \n",
       "19872            Фахівець з опису бізнес процесів        2019-04-26   \n",
       "26477                                  Основатель        2019-04-08   \n",
       "43451                        Руководитель проекта        2018-08-17   \n",
       "\n",
       "             Авто          Образование Пол  Возраст  Опыт работы (месяц)  \\\n",
       "40015  Не указано  Высшее образование    М       48               1188.0   \n",
       "29098  Не указано  Высшее образование    М       14                477.0   \n",
       "19351  Не указано  Высшее образование    М       28                470.0   \n",
       "19872  Не указано  Высшее образование    М       34                416.0   \n",
       "26477  Не указано  Высшее образование    М       34                411.0   \n",
       "43451  Не указано  Высшее образование    М       36                434.0   \n",
       "\n",
       "                  Город  ...  частичная занятость  сменный график  \\\n",
       "40015  город-миллионник  ...                 True           False   \n",
       "29098            Москва  ...                False           False   \n",
       "19351            другие  ...                False           False   \n",
       "19872            другие  ...                False           False   \n",
       "26477   Санкт-Петербург  ...                 True            True   \n",
       "43451            Москва  ...                False           False   \n",
       "\n",
       "       проектная работа  гибкий график  волонтерство  удаленная работа  \\\n",
       "40015             False           True         False              True   \n",
       "29098             False          False         False             False   \n",
       "19351             False          False         False             False   \n",
       "19872             False          False         False             False   \n",
       "26477              True           True          True              True   \n",
       "43451             False          False         False             False   \n",
       "\n",
       "       стажировка  вахтовый метод  ЗП (руб)  соотношение опыта к возрасту  \n",
       "40015       False            True   60000.0                        -804.0  \n",
       "29098       False           False   60000.0                        -501.0  \n",
       "19351       False           False   20000.0                        -326.0  \n",
       "19872       False           False   60740.5                        -200.0  \n",
       "26477        True            True   80000.0                        -195.0  \n",
       "43451       False           False  200000.0                        -194.0  \n",
       "\n",
       "[6 rows x 24 columns]"
      ]
     },
     "metadata": {},
     "output_type": "display_data"
    }
   ],
   "source": [
    "std=df['Опыт работы (месяц)'].std()\n",
    "gran=df['Опыт работы (месяц)'].mean()+std*3 #верхняя граница \n",
    "display(df[(df['Опыт работы (месяц)']>gran) & (df['соотношение опыта к возрасту']<-100)].sort_values('соотношение опыта к возрасту'))"
   ]
  },
  {
   "attachments": {},
   "cell_type": "markdown",
   "id": "7305c34b-089d-4986-be9f-5fa1c0ee281c",
   "metadata": {},
   "source": [
    "Положительная величина коэффициента асимметрии указывает на наличие правосторонней асимметрии, в распределении появляются преимущественно более высокие значения признака. Мода распределения составляет - 81 месяц, основная доля наблюдений лежит в промежутке [57;154]\n",
    "Для данного показателя значение в нижней границе нельзя отнести к выбросу, т.к. вполне возможна ситуация когда работу ищет человек без опыта\n",
    "\n",
    "Сконцентрируемся на верхней границе: для обнаружения выбросов опиралась на поле опыта, а так же на возраст кандидата и их соотношение.\n",
    "У одного из кандидатов очень высокий показатель опыта работы несопоставимый с его возрастом (id 40015). Также под подозрения попадают кандидаты с id:\n",
    "-   29098. данный номер мы ранее уже фиксировали в выбросах по возрасту\n",
    "-   19351. 280месяцев=23года опыта, возраст же 28, т.е. у человека трудовой опыт начал появляться с 5летнего возраста\n",
    "-   19872, 26477, 43451. Кандидаты с аналогичной проблемой по показателю возраста\n",
    "\n"
   ]
  },
  {
   "cell_type": "markdown",
   "id": "f2fe0acb-ab1a-4e15-9326-2560e22d73c1",
   "metadata": {},
   "source": [
    "3. Постройте распределение признака **\"ЗП (руб)\"**. Опишите данное распределение, отвечая на следующие вопросы: каковы предельные значения признака, в каком примерном интервале находится заработная плата большинства соискателей? Есть ли аномалии для признака возраста? Обратите внимание на гигантские размеры желаемой заработной платы.\n",
    "*Совет: постройте гистограмму и коробчатую диаграмму рядом.*\n"
   ]
  },
  {
   "cell_type": "code",
   "execution_count": 29,
   "id": "6271f8ad-bd2e-4196-ae4a-5b39c4c1010e",
   "metadata": {},
   "outputs": [
    {
     "data": {
      "image/png": "[encoded data removed]",
      "text/plain": [
       "<Figure size 576x288 with 1 Axes>"
      ]
     },
     "metadata": {
      "needs_background": "light"
     },
     "output_type": "display_data"
    }
   ],
   "source": [
    "fig, axes=plt.subplots( figsize=(8,4))\n",
    "axes.hist(x=df['ЗП (руб)']);\n",
    "axes.set_title('Распределение соискателей по ожидаемой ЗП')\n",
    "axes.set_ylabel('кол-во наблюдений')\n",
    "axes.set_xlabel('ЗП (руб)');"
   ]
  },
  {
   "cell_type": "code",
   "execution_count": 30,
   "id": "9214e30c",
   "metadata": {},
   "outputs": [
    {
     "data": {
      "image/png": "[encoded data removed]",
      "text/plain": [
       "<Figure size 576x288 with 1 Axes>"
      ]
     },
     "metadata": {
      "needs_background": "light"
     },
     "output_type": "display_data"
    }
   ],
   "source": [
    "fig, axes=plt.subplots( figsize=(8,4))\n",
    "axes.hist(x=df[df['ЗП (руб)']>1000000]['ЗП (руб)']);\n",
    "axes.set_title('Распределение соискателей по ожидаемой ЗП свыш 1 млн')\n",
    "axes.set_ylabel('кол-во наблюдений')\n",
    "axes.set_xlabel('ЗП (руб)');"
   ]
  },
  {
   "cell_type": "code",
   "execution_count": 31,
   "id": "151f1195",
   "metadata": {},
   "outputs": [
    {
     "data": {
      "image/png": "[encoded data removed]",
      "text/plain": [
       "<Figure size 432x288 with 1 Axes>"
      ]
     },
     "metadata": {
      "needs_background": "light"
     },
     "output_type": "display_data"
    }
   ],
   "source": [
    "df['ЗП (руб)'].plot(kind='box', title='Распределение соискателей по ожидаемой ЗП' );"
   ]
  },
  {
   "attachments": {},
   "cell_type": "markdown",
   "id": "17b6ccd6",
   "metadata": {},
   "source": [
    "График получился нечитаемым из-за выбросов на верхней границе, давайте отфильтруем и посмотрим на получившийся график boxplot"
   ]
  },
  {
   "cell_type": "code",
   "execution_count": 32,
   "id": "a01652ef",
   "metadata": {},
   "outputs": [
    {
     "data": {
      "image/png": "[encoded data removed]",
      "text/plain": [
       "<Figure size 432x288 with 1 Axes>"
      ]
     },
     "metadata": {
      "needs_background": "light"
     },
     "output_type": "display_data"
    }
   ],
   "source": [
    "df[df['ЗП (руб)']<df['ЗП (руб)'].quantile(0.9)]['ЗП (руб)'].plot(kind='box', title='Распределение соискателей по ожидаемой ЗП' );"
   ]
  },
  {
   "cell_type": "code",
   "execution_count": 33,
   "id": "3ea4c540",
   "metadata": {},
   "outputs": [
    {
     "data": {
      "text/plain": [
       "37082.2"
      ]
     },
     "metadata": {},
     "output_type": "display_data"
    },
    {
     "data": {
      "text/plain": [
       "95000.0"
      ]
     },
     "metadata": {},
     "output_type": "display_data"
    }
   ],
   "source": [
    "display(df['ЗП (руб)'].quantile(0.25))\n",
    "display(df['ЗП (руб)'].quantile(0.75))"
   ]
  },
  {
   "cell_type": "code",
   "execution_count": 34,
   "id": "1aea8885",
   "metadata": {},
   "outputs": [
    {
     "data": {
      "text/plain": [
       "131.11396318433165"
      ]
     },
     "execution_count": 34,
     "metadata": {},
     "output_type": "execute_result"
    }
   ],
   "source": [
    "stats.skew(df['ЗП (руб)'], bias=False )"
   ]
  },
  {
   "cell_type": "code",
   "execution_count": 35,
   "id": "5894e968",
   "metadata": {},
   "outputs": [
    {
     "data": {
      "text/plain": [
       "59000.0"
      ]
     },
     "metadata": {},
     "output_type": "display_data"
    }
   ],
   "source": [
    "display(df['ЗП (руб)'].median())"
   ]
  },
  {
   "cell_type": "code",
   "execution_count": 36,
   "id": "ca9daf5e",
   "metadata": {},
   "outputs": [
    {
     "data": {
      "text/html": [
       "<div>\n",
       "<style scoped>\n",
       "    .dataframe tbody tr th:only-of-type {\n",
       "        vertical-align: middle;\n",
       "    }\n",
       "\n",
       "    .dataframe tbody tr th {\n",
       "        vertical-align: top;\n",
       "    }\n",
       "\n",
       "    .dataframe thead th {\n",
       "        text-align: right;\n",
       "    }\n",
       "</style>\n",
       "<table border=\"1\" class=\"dataframe\">\n",
       "  <thead>\n",
       "    <tr style=\"text-align: right;\">\n",
       "      <th></th>\n",
       "      <th>Ищет работу на должность:</th>\n",
       "      <th>Последнее/нынешнее место работы</th>\n",
       "      <th>Последняя/нынешняя должность</th>\n",
       "      <th>Обновление резюме</th>\n",
       "      <th>Авто</th>\n",
       "      <th>Образование</th>\n",
       "      <th>Пол</th>\n",
       "      <th>Возраст</th>\n",
       "      <th>Опыт работы (месяц)</th>\n",
       "      <th>Город</th>\n",
       "      <th>...</th>\n",
       "      <th>частичная занятость</th>\n",
       "      <th>сменный график</th>\n",
       "      <th>проектная работа</th>\n",
       "      <th>гибкий график</th>\n",
       "      <th>волонтерство</th>\n",
       "      <th>удаленная работа</th>\n",
       "      <th>стажировка</th>\n",
       "      <th>вахтовый метод</th>\n",
       "      <th>ЗП (руб)</th>\n",
       "      <th>соотношение опыта к возрасту</th>\n",
       "    </tr>\n",
       "  </thead>\n",
       "  <tbody>\n",
       "    <tr>\n",
       "      <th>6931</th>\n",
       "      <td>Программирование, Разработка или Системный адм...</td>\n",
       "      <td>Евразийский банк, АО</td>\n",
       "      <td>Главный специалист Отдел разработки систем роз...</td>\n",
       "      <td>2019-04-22</td>\n",
       "      <td>Не указано</td>\n",
       "      <td>Высшее образование</td>\n",
       "      <td>М</td>\n",
       "      <td>31</td>\n",
       "      <td>115.0</td>\n",
       "      <td>другие</td>\n",
       "      <td>...</td>\n",
       "      <td>True</td>\n",
       "      <td>True</td>\n",
       "      <td>True</td>\n",
       "      <td>True</td>\n",
       "      <td>False</td>\n",
       "      <td>True</td>\n",
       "      <td>False</td>\n",
       "      <td>False</td>\n",
       "      <td>24304876.0</td>\n",
       "      <td>65.0</td>\n",
       "    </tr>\n",
       "    <tr>\n",
       "      <th>28253</th>\n",
       "      <td>Руководитель IT проектов, Роботизация, Автомат...</td>\n",
       "      <td>HAMSTER ROBOTICS</td>\n",
       "      <td>Заместитель директора</td>\n",
       "      <td>2019-04-27</td>\n",
       "      <td>Имеется собственный автомобиль</td>\n",
       "      <td>Высшее образование</td>\n",
       "      <td>М</td>\n",
       "      <td>39</td>\n",
       "      <td>280.0</td>\n",
       "      <td>Москва</td>\n",
       "      <td>...</td>\n",
       "      <td>True</td>\n",
       "      <td>False</td>\n",
       "      <td>True</td>\n",
       "      <td>True</td>\n",
       "      <td>False</td>\n",
       "      <td>True</td>\n",
       "      <td>False</td>\n",
       "      <td>True</td>\n",
       "      <td>3000000.0</td>\n",
       "      <td>-4.0</td>\n",
       "    </tr>\n",
       "    <tr>\n",
       "      <th>39191</th>\n",
       "      <td>Специалист по IT</td>\n",
       "      <td>ТОО \"AMS\"</td>\n",
       "      <td>Системный администратор</td>\n",
       "      <td>2019-04-22</td>\n",
       "      <td>Не указано</td>\n",
       "      <td>Среднее специальное образование</td>\n",
       "      <td>М</td>\n",
       "      <td>29</td>\n",
       "      <td>98.0</td>\n",
       "      <td>другие</td>\n",
       "      <td>...</td>\n",
       "      <td>False</td>\n",
       "      <td>False</td>\n",
       "      <td>False</td>\n",
       "      <td>False</td>\n",
       "      <td>False</td>\n",
       "      <td>False</td>\n",
       "      <td>False</td>\n",
       "      <td>False</td>\n",
       "      <td>7675224.0</td>\n",
       "      <td>58.0</td>\n",
       "    </tr>\n",
       "    <tr>\n",
       "      <th>41924</th>\n",
       "      <td>Project manager</td>\n",
       "      <td>Тинькофф Банк</td>\n",
       "      <td>Технолог автоматизации бизнес-процессов</td>\n",
       "      <td>2019-04-22</td>\n",
       "      <td>Не указано</td>\n",
       "      <td>Неоконченное высшее образование</td>\n",
       "      <td>М</td>\n",
       "      <td>24</td>\n",
       "      <td>39.0</td>\n",
       "      <td>Москва</td>\n",
       "      <td>...</td>\n",
       "      <td>True</td>\n",
       "      <td>False</td>\n",
       "      <td>True</td>\n",
       "      <td>True</td>\n",
       "      <td>False</td>\n",
       "      <td>True</td>\n",
       "      <td>False</td>\n",
       "      <td>False</td>\n",
       "      <td>1750000.0</td>\n",
       "      <td>57.0</td>\n",
       "    </tr>\n",
       "    <tr>\n",
       "      <th>43134</th>\n",
       "      <td>Chief AI Officer</td>\n",
       "      <td>Finnish Russian Univeristy Cooperation in Tele...</td>\n",
       "      <td>Project Manager in Multimedia Technologies</td>\n",
       "      <td>2018-10-25</td>\n",
       "      <td>Не указано</td>\n",
       "      <td>Высшее образование</td>\n",
       "      <td>М</td>\n",
       "      <td>38</td>\n",
       "      <td>97.0</td>\n",
       "      <td>Москва</td>\n",
       "      <td>...</td>\n",
       "      <td>False</td>\n",
       "      <td>False</td>\n",
       "      <td>False</td>\n",
       "      <td>False</td>\n",
       "      <td>False</td>\n",
       "      <td>False</td>\n",
       "      <td>False</td>\n",
       "      <td>False</td>\n",
       "      <td>2500000.0</td>\n",
       "      <td>167.0</td>\n",
       "    </tr>\n",
       "  </tbody>\n",
       "</table>\n",
       "<p>5 rows × 24 columns</p>\n",
       "</div>"
      ],
      "text/plain": [
       "                               Ищет работу на должность:  \\\n",
       "6931   Программирование, Разработка или Системный адм...   \n",
       "28253  Руководитель IT проектов, Роботизация, Автомат...   \n",
       "39191                                   Специалист по IT   \n",
       "41924                                    Project manager   \n",
       "43134                                   Chief AI Officer   \n",
       "\n",
       "                         Последнее/нынешнее место работы  \\\n",
       "6931                                Евразийский банк, АО   \n",
       "28253                                   HAMSTER ROBOTICS   \n",
       "39191                                          ТОО \"AMS\"   \n",
       "41924                                      Тинькофф Банк   \n",
       "43134  Finnish Russian Univeristy Cooperation in Tele...   \n",
       "\n",
       "                            Последняя/нынешняя должность Обновление резюме  \\\n",
       "6931   Главный специалист Отдел разработки систем роз...        2019-04-22   \n",
       "28253                              Заместитель директора        2019-04-27   \n",
       "39191                            Системный администратор        2019-04-22   \n",
       "41924            Технолог автоматизации бизнес-процессов        2019-04-22   \n",
       "43134         Project Manager in Multimedia Technologies        2018-10-25   \n",
       "\n",
       "                                 Авто                       Образование Пол  \\\n",
       "6931                       Не указано               Высшее образование    М   \n",
       "28253  Имеется собственный автомобиль               Высшее образование    М   \n",
       "39191                      Не указано  Среднее специальное образование    М   \n",
       "41924                      Не указано  Неоконченное высшее образование    М   \n",
       "43134                      Не указано               Высшее образование    М   \n",
       "\n",
       "       Возраст  Опыт работы (месяц)   Город  ...  частичная занятость  \\\n",
       "6931        31                115.0  другие  ...                 True   \n",
       "28253       39                280.0  Москва  ...                 True   \n",
       "39191       29                 98.0  другие  ...                False   \n",
       "41924       24                 39.0  Москва  ...                 True   \n",
       "43134       38                 97.0  Москва  ...                False   \n",
       "\n",
       "       сменный график  проектная работа  гибкий график  волонтерство  \\\n",
       "6931             True              True           True         False   \n",
       "28253           False              True           True         False   \n",
       "39191           False             False          False         False   \n",
       "41924           False              True           True         False   \n",
       "43134           False             False          False         False   \n",
       "\n",
       "       удаленная работа  стажировка  вахтовый метод    ЗП (руб)  \\\n",
       "6931               True       False           False  24304876.0   \n",
       "28253              True       False            True   3000000.0   \n",
       "39191             False       False           False   7675224.0   \n",
       "41924              True       False           False   1750000.0   \n",
       "43134             False       False           False   2500000.0   \n",
       "\n",
       "       соотношение опыта к возрасту  \n",
       "6931                           65.0  \n",
       "28253                          -4.0  \n",
       "39191                          58.0  \n",
       "41924                          57.0  \n",
       "43134                         167.0  \n",
       "\n",
       "[5 rows x 24 columns]"
      ]
     },
     "execution_count": 36,
     "metadata": {},
     "output_type": "execute_result"
    }
   ],
   "source": [
    "df[df['ЗП (руб)']>1000000]"
   ]
  },
  {
   "attachments": {},
   "cell_type": "markdown",
   "id": "6c39ca13-225e-48f7-a85c-ab07a6cc852a",
   "metadata": {},
   "source": [
    "Положительная величина коэффициента асимметрии указывает на наличие правосторонней асимметрии, в распределении появляются преимущественно более высокие значения признака. Медианное значение составляет 59тыс руб, основная доля наблюдений лежит в промежутке [37тыс;95тыс]\n",
    "Для данного показателя  рассмотрим в виде выбросов верхнюю границу. ЗП выше 1млн ожидается у 5 человек. Можно ли назвать это выбрасами - спорный вопрос. Для руководителей я бы не стала считать выбросом ЗП свыше 1 млн. Системного администратора с ЗП 24млн отнесла бы к выбросу"
   ]
  },
  {
   "cell_type": "markdown",
   "id": "eab2206d-d95b-468b-8e5f-34381abf0ce7",
   "metadata": {},
   "source": [
    "4. Постройте диаграмму, которая показывает зависимость **медианной** желаемой заработной платы (**\"ЗП (руб)\"**) от уровня образования (**\"Образование\"**). Используйте для диаграммы данные о резюме, где желаемая заработная плата меньше 1 млн рублей.\n",
    "*Сделайте выводы по представленной диаграмме: для каких уровней образования наблюдаются наибольшие и наименьшие уровни желаемой заработной платы? Как вы считаете, важен ли признак уровня образования при прогнозировании заработной платы?*"
   ]
  },
  {
   "cell_type": "code",
   "execution_count": 37,
   "id": "80defb23-bfb1-4a18-8be6-bf36aa7165d5",
   "metadata": {},
   "outputs": [
    {
     "data": {
      "image/png": "[encoded data removed]",
      "text/plain": [
       "<Figure size 576x288 with 1 Axes>"
      ]
     },
     "metadata": {
      "needs_background": "light"
     },
     "output_type": "display_data"
    }
   ],
   "source": [
    "df_f=pd.DataFrame(df[df['ЗП (руб)']<1000000].groupby('Образование')['ЗП (руб)'].median())\n",
    "df_f=df_f.reset_index()\n",
    "fig, axes=plt.subplots( figsize=(8,4))\n",
    "axes.bar(height=df_f['ЗП (руб)'], x=df_f['Образование']);\n",
    "axes.set_title('Распределение ожидаемой ЗП (медиана) соискателей по группам образования')\n",
    "axes.set_ylabel('руб')\n",
    "axes.xaxis.set_tick_params(rotation=25,\n",
    "                         labelsize=9\n",
    "                         #,labelcolor=\"b\"\n",
    "                         )\n",
    "\n",
    "\n"
   ]
  },
  {
   "attachments": {},
   "cell_type": "markdown",
   "id": "dc463319-3f85-47dd-b66e-aecb0be0c76f",
   "metadata": {},
   "source": [
    "Достаточно ожидаемый вывод: чем выше образование, тем более высокие ожидания по ЗП. Признак важен для дальнейшего прогнозирования"
   ]
  },
  {
   "cell_type": "markdown",
   "id": "0112af31-f6b0-4e3b-82ab-71296e752e5e",
   "metadata": {},
   "source": [
    "5. Постройте диаграмму, которая показывает распределение желаемой заработной платы (**\"ЗП (руб)\"**) в зависимости от города (**\"Город\"**). Используйте для диаграммы данные о резюме, где желая заработная плата меньше 1 млн рублей.\n",
    "*Сделайте выводы по полученной диаграмме: как соотносятся медианные уровни желаемой заработной платы и их размах в городах? Как вы считаете, важен ли признак города при прогнозировании заработной платы?*"
   ]
  },
  {
   "cell_type": "code",
   "execution_count": 38,
   "id": "973b0cfc-a972-470a-8b4a-68744ef220c4",
   "metadata": {},
   "outputs": [
    {
     "data": {
      "text/plain": [
       "Text(0.5, 1.0, 'Распределение ЗП по городам')"
      ]
     },
     "execution_count": 38,
     "metadata": {},
     "output_type": "execute_result"
    },
    {
     "data": {
      "image/png": "[encoded data removed]",
      "text/plain": [
       "<Figure size 432x288 with 1 Axes>"
      ]
     },
     "metadata": {
      "needs_background": "light"
     },
     "output_type": "display_data"
    }
   ],
   "source": [
    "sns.boxplot(x='Город', y='ЗП (руб)', data=df[df['ЗП (руб)']<1000000]).set_title('Распределение ЗП по городам')"
   ]
  },
  {
   "attachments": {},
   "cell_type": "markdown",
   "id": "2710ce73-2e81-4e38-b52f-833cd14ba47a",
   "metadata": {
    "tags": []
   },
   "source": [
    "В Москве медианное значение значительно выше, чем в прочих городах. Для прогнозирования признак важен\n"
   ]
  },
  {
   "cell_type": "markdown",
   "id": "3bfcfdaf-755d-4d2b-8ed8-326201dc07ab",
   "metadata": {},
   "source": [
    "6. Постройте **многоуровневую столбчатую диаграмму**, которая показывает зависимость медианной заработной платы (**\"ЗП (руб)\"**) от признаков **\"Готовность к переезду\"** и **\"Готовность к командировкам\"**. Проанализируйте график, сравнив уровень заработной платы в категориях."
   ]
  },
  {
   "cell_type": "code",
   "execution_count": 39,
   "id": "ad3f270f-2991-47eb-929b-e8f88a55b0d1",
   "metadata": {},
   "outputs": [
    {
     "data": {
      "application/vnd.plotly.v1+json": {
       "config": {
        "plotlyServerURL": "https://plot.ly"
       },
       "data": [
        {
         "alignmentgroup": "True",
         "hovertemplate": "Готовность к командировкам=False<br>ЗП (руб)=%{x}<br>Готовность к переезду=%{y}<extra></extra>",
         "legendgroup": "False",
         "marker": {
          "color": "#636efa"
         },
         "name": "False",
         "offsetgroup": "False",
         "orientation": "h",
         "showlegend": true,
         "textposition": "auto",
         "type": "bar",
         "x": [
          40000,
          50000
         ],
         "xaxis": "x",
         "y": [
          false,
          true
         ],
         "yaxis": "y"
        },
        {
         "alignmentgroup": "True",
         "hovertemplate": "Готовность к командировкам=True<br>ЗП (руб)=%{x}<br>Готовность к переезду=%{y}<extra></extra>",
         "legendgroup": "True",
         "marker": {
          "color": "#EF553B"
         },
         "name": "True",
         "offsetgroup": "True",
         "orientation": "h",
         "showlegend": true,
         "textposition": "auto",
         "type": "bar",
         "x": [
          60000,
          65924.25
         ],
         "xaxis": "x",
         "y": [
          false,
          true
         ],
         "yaxis": "y"
        }
       ],
       "layout": {
        "barmode": "group",
        "legend": {
         "title": {
          "text": "Готовность к командировкам"
         },
         "tracegroupgap": 0
        },
        "template": {
         "data": {
          "bar": [
           {
            "error_x": {
             "color": "#2a3f5f"
            },
            "error_y": {
             "color": "#2a3f5f"
            },
            "marker": {
             "line": {
              "color": "#E5ECF6",
              "width": 0.5
             }
            },
            "type": "bar"
           }
          ],
          "barpolar": [
           {
            "marker": {
             "line": {
              "color": "#E5ECF6",
              "width": 0.5
             }
            },
            "type": "barpolar"
           }
          ],
          "carpet": [
           {
            "aaxis": {
             "endlinecolor": "#2a3f5f",
             "gridcolor": "white",
             "linecolor": "white",
             "minorgridcolor": "white",
             "startlinecolor": "#2a3f5f"
            },
            "baxis": {
             "endlinecolor": "#2a3f5f",
             "gridcolor": "white",
             "linecolor": "white",
             "minorgridcolor": "white",
             "startlinecolor": "#2a3f5f"
            },
            "type": "carpet"
           }
          ],
          "choropleth": [
           {
            "colorbar": {
             "outlinewidth": 0,
             "ticks": ""
            },
            "type": "choropleth"
           }
          ],
          "contour": [
           {
            "colorbar": {
             "outlinewidth": 0,
             "ticks": ""
            },
            "colorscale": [
             [
              0,
              "#0d0887"
             ],
             [
              0.1111111111111111,
              "#46039f"
             ],
             [
              0.2222222222222222,
              "#7201a8"
             ],
             [
              0.3333333333333333,
              "#9c179e"
             ],
             [
              0.4444444444444444,
              "#bd3786"
             ],
             [
              0.5555555555555556,
              "#d8576b"
             ],
             [
              0.6666666666666666,
              "#ed7953"
             ],
             [
              0.7777777777777778,
              "#fb9f3a"
             ],
             [
              0.8888888888888888,
              "#fdca26"
             ],
             [
              1,
              "#f0f921"
             ]
            ],
            "type": "contour"
           }
          ],
          "contourcarpet": [
           {
            "colorbar": {
             "outlinewidth": 0,
             "ticks": ""
            },
            "type": "contourcarpet"
           }
          ],
          "heatmap": [
           {
            "colorbar": {
             "outlinewidth": 0,
             "ticks": ""
            },
            "colorscale": [
             [
              0,
              "#0d0887"
             ],
             [
              0.1111111111111111,
              "#46039f"
             ],
             [
              0.2222222222222222,
              "#7201a8"
             ],
             [
              0.3333333333333333,
              "#9c179e"
             ],
             [
              0.4444444444444444,
              "#bd3786"
             ],
             [
              0.5555555555555556,
              "#d8576b"
             ],
             [
              0.6666666666666666,
              "#ed7953"
             ],
             [
              0.7777777777777778,
              "#fb9f3a"
             ],
             [
              0.8888888888888888,
              "#fdca26"
             ],
             [
              1,
              "#f0f921"
             ]
            ],
            "type": "heatmap"
           }
          ],
          "heatmapgl": [
           {
            "colorbar": {
             "outlinewidth": 0,
             "ticks": ""
            },
            "colorscale": [
             [
              0,
              "#0d0887"
             ],
             [
              0.1111111111111111,
              "#46039f"
             ],
             [
              0.2222222222222222,
              "#7201a8"
             ],
             [
              0.3333333333333333,
              "#9c179e"
             ],
             [
              0.4444444444444444,
              "#bd3786"
             ],
             [
              0.5555555555555556,
              "#d8576b"
             ],
             [
              0.6666666666666666,
              "#ed7953"
             ],
             [
              0.7777777777777778,
              "#fb9f3a"
             ],
             [
              0.8888888888888888,
              "#fdca26"
             ],
             [
              1,
              "#f0f921"
             ]
            ],
            "type": "heatmapgl"
           }
          ],
          "histogram": [
           {
            "marker": {
             "colorbar": {
              "outlinewidth": 0,
              "ticks": ""
             }
            },
            "type": "histogram"
           }
          ],
          "histogram2d": [
           {
            "colorbar": {
             "outlinewidth": 0,
             "ticks": ""
            },
            "colorscale": [
             [
              0,
              "#0d0887"
             ],
             [
              0.1111111111111111,
              "#46039f"
             ],
             [
              0.2222222222222222,
              "#7201a8"
             ],
             [
              0.3333333333333333,
              "#9c179e"
             ],
             [
              0.4444444444444444,
              "#bd3786"
             ],
             [
              0.5555555555555556,
              "#d8576b"
             ],
             [
              0.6666666666666666,
              "#ed7953"
             ],
             [
              0.7777777777777778,
              "#fb9f3a"
             ],
             [
              0.8888888888888888,
              "#fdca26"
             ],
             [
              1,
              "#f0f921"
             ]
            ],
            "type": "histogram2d"
           }
          ],
          "histogram2dcontour": [
           {
            "colorbar": {
             "outlinewidth": 0,
             "ticks": ""
            },
            "colorscale": [
             [
              0,
              "#0d0887"
             ],
             [
              0.1111111111111111,
              "#46039f"
             ],
             [
              0.2222222222222222,
              "#7201a8"
             ],
             [
              0.3333333333333333,
              "#9c179e"
             ],
             [
              0.4444444444444444,
              "#bd3786"
             ],
             [
              0.5555555555555556,
              "#d8576b"
             ],
             [
              0.6666666666666666,
              "#ed7953"
             ],
             [
              0.7777777777777778,
              "#fb9f3a"
             ],
             [
              0.8888888888888888,
              "#fdca26"
             ],
             [
              1,
              "#f0f921"
             ]
            ],
            "type": "histogram2dcontour"
           }
          ],
          "mesh3d": [
           {
            "colorbar": {
             "outlinewidth": 0,
             "ticks": ""
            },
            "type": "mesh3d"
           }
          ],
          "parcoords": [
           {
            "line": {
             "colorbar": {
              "outlinewidth": 0,
              "ticks": ""
             }
            },
            "type": "parcoords"
           }
          ],
          "pie": [
           {
            "automargin": true,
            "type": "pie"
           }
          ],
          "scatter": [
           {
            "marker": {
             "colorbar": {
              "outlinewidth": 0,
              "ticks": ""
             }
            },
            "type": "scatter"
           }
          ],
          "scatter3d": [
           {
            "line": {
             "colorbar": {
              "outlinewidth": 0,
              "ticks": ""
             }
            },
            "marker": {
             "colorbar": {
              "outlinewidth": 0,
              "ticks": ""
             }
            },
            "type": "scatter3d"
           }
          ],
          "scattercarpet": [
           {
            "marker": {
             "colorbar": {
              "outlinewidth": 0,
              "ticks": ""
             }
            },
            "type": "scattercarpet"
           }
          ],
          "scattergeo": [
           {
            "marker": {
             "colorbar": {
              "outlinewidth": 0,
              "ticks": ""
             }
            },
            "type": "scattergeo"
           }
          ],
          "scattergl": [
           {
            "marker": {
             "colorbar": {
              "outlinewidth": 0,
              "ticks": ""
             }
            },
            "type": "scattergl"
           }
          ],
          "scattermapbox": [
           {
            "marker": {
             "colorbar": {
              "outlinewidth": 0,
              "ticks": ""
             }
            },
            "type": "scattermapbox"
           }
          ],
          "scatterpolar": [
           {
            "marker": {
             "colorbar": {
              "outlinewidth": 0,
              "ticks": ""
             }
            },
            "type": "scatterpolar"
           }
          ],
          "scatterpolargl": [
           {
            "marker": {
             "colorbar": {
              "outlinewidth": 0,
              "ticks": ""
             }
            },
            "type": "scatterpolargl"
           }
          ],
          "scatterternary": [
           {
            "marker": {
             "colorbar": {
              "outlinewidth": 0,
              "ticks": ""
             }
            },
            "type": "scatterternary"
           }
          ],
          "surface": [
           {
            "colorbar": {
             "outlinewidth": 0,
             "ticks": ""
            },
            "colorscale": [
             [
              0,
              "#0d0887"
             ],
             [
              0.1111111111111111,
              "#46039f"
             ],
             [
              0.2222222222222222,
              "#7201a8"
             ],
             [
              0.3333333333333333,
              "#9c179e"
             ],
             [
              0.4444444444444444,
              "#bd3786"
             ],
             [
              0.5555555555555556,
              "#d8576b"
             ],
             [
              0.6666666666666666,
              "#ed7953"
             ],
             [
              0.7777777777777778,
              "#fb9f3a"
             ],
             [
              0.8888888888888888,
              "#fdca26"
             ],
             [
              1,
              "#f0f921"
             ]
            ],
            "type": "surface"
           }
          ],
          "table": [
           {
            "cells": {
             "fill": {
              "color": "#EBF0F8"
             },
             "line": {
              "color": "white"
             }
            },
            "header": {
             "fill": {
              "color": "#C8D4E3"
             },
             "line": {
              "color": "white"
             }
            },
            "type": "table"
           }
          ]
         },
         "layout": {
          "annotationdefaults": {
           "arrowcolor": "#2a3f5f",
           "arrowhead": 0,
           "arrowwidth": 1
          },
          "coloraxis": {
           "colorbar": {
            "outlinewidth": 0,
            "ticks": ""
           }
          },
          "colorscale": {
           "diverging": [
            [
             0,
             "#8e0152"
            ],
            [
             0.1,
             "#c51b7d"
            ],
            [
             0.2,
             "#de77ae"
            ],
            [
             0.3,
             "#f1b6da"
            ],
            [
             0.4,
             "#fde0ef"
            ],
            [
             0.5,
             "#f7f7f7"
            ],
            [
             0.6,
             "#e6f5d0"
            ],
            [
             0.7,
             "#b8e186"
            ],
            [
             0.8,
             "#7fbc41"
            ],
            [
             0.9,
             "#4d9221"
            ],
            [
             1,
             "#276419"
            ]
           ],
           "sequential": [
            [
             0,
             "#0d0887"
            ],
            [
             0.1111111111111111,
             "#46039f"
            ],
            [
             0.2222222222222222,
             "#7201a8"
            ],
            [
             0.3333333333333333,
             "#9c179e"
            ],
            [
             0.4444444444444444,
             "#bd3786"
            ],
            [
             0.5555555555555556,
             "#d8576b"
            ],
            [
             0.6666666666666666,
             "#ed7953"
            ],
            [
             0.7777777777777778,
             "#fb9f3a"
            ],
            [
             0.8888888888888888,
             "#fdca26"
            ],
            [
             1,
             "#f0f921"
            ]
           ],
           "sequentialminus": [
            [
             0,
             "#0d0887"
            ],
            [
             0.1111111111111111,
             "#46039f"
            ],
            [
             0.2222222222222222,
             "#7201a8"
            ],
            [
             0.3333333333333333,
             "#9c179e"
            ],
            [
             0.4444444444444444,
             "#bd3786"
            ],
            [
             0.5555555555555556,
             "#d8576b"
            ],
            [
             0.6666666666666666,
             "#ed7953"
            ],
            [
             0.7777777777777778,
             "#fb9f3a"
            ],
            [
             0.8888888888888888,
             "#fdca26"
            ],
            [
             1,
             "#f0f921"
            ]
           ]
          },
          "colorway": [
           "#636efa",
           "#EF553B",
           "#00cc96",
           "#ab63fa",
           "#FFA15A",
           "#19d3f3",
           "#FF6692",
           "#B6E880",
           "#FF97FF",
           "#FECB52"
          ],
          "font": {
           "color": "#2a3f5f"
          },
          "geo": {
           "bgcolor": "white",
           "lakecolor": "white",
           "landcolor": "#E5ECF6",
           "showlakes": true,
           "showland": true,
           "subunitcolor": "white"
          },
          "hoverlabel": {
           "align": "left"
          },
          "hovermode": "closest",
          "mapbox": {
           "style": "light"
          },
          "paper_bgcolor": "white",
          "plot_bgcolor": "#E5ECF6",
          "polar": {
           "angularaxis": {
            "gridcolor": "white",
            "linecolor": "white",
            "ticks": ""
           },
           "bgcolor": "#E5ECF6",
           "radialaxis": {
            "gridcolor": "white",
            "linecolor": "white",
            "ticks": ""
           }
          },
          "scene": {
           "xaxis": {
            "backgroundcolor": "#E5ECF6",
            "gridcolor": "white",
            "gridwidth": 2,
            "linecolor": "white",
            "showbackground": true,
            "ticks": "",
            "zerolinecolor": "white"
           },
           "yaxis": {
            "backgroundcolor": "#E5ECF6",
            "gridcolor": "white",
            "gridwidth": 2,
            "linecolor": "white",
            "showbackground": true,
            "ticks": "",
            "zerolinecolor": "white"
           },
           "zaxis": {
            "backgroundcolor": "#E5ECF6",
            "gridcolor": "white",
            "gridwidth": 2,
            "linecolor": "white",
            "showbackground": true,
            "ticks": "",
            "zerolinecolor": "white"
           }
          },
          "shapedefaults": {
           "line": {
            "color": "#2a3f5f"
           }
          },
          "ternary": {
           "aaxis": {
            "gridcolor": "white",
            "linecolor": "white",
            "ticks": ""
           },
           "baxis": {
            "gridcolor": "white",
            "linecolor": "white",
            "ticks": ""
           },
           "bgcolor": "#E5ECF6",
           "caxis": {
            "gridcolor": "white",
            "linecolor": "white",
            "ticks": ""
           }
          },
          "title": {
           "x": 0.05
          },
          "xaxis": {
           "automargin": true,
           "gridcolor": "white",
           "linecolor": "white",
           "ticks": "",
           "title": {
            "standoff": 15
           },
           "zerolinecolor": "white",
           "zerolinewidth": 2
          },
          "yaxis": {
           "automargin": true,
           "gridcolor": "white",
           "linecolor": "white",
           "ticks": "",
           "title": {
            "standoff": 15
           },
           "zerolinecolor": "white",
           "zerolinewidth": 2
          }
         }
        },
        "title": {
         "text": "Медианная з/п по готовности к командировкам/переезду"
        },
        "xaxis": {
         "anchor": "y",
         "domain": [
          0,
          1
         ],
         "title": {
          "text": "ЗП (руб)"
         }
        },
        "yaxis": {
         "anchor": "x",
         "domain": [
          0,
          1
         ],
         "title": {
          "text": "Готовность к переезду"
         }
        }
       }
      }
     },
     "metadata": {},
     "output_type": "display_data"
    }
   ],
   "source": [
    "df_f=df.groupby(['Готовность к переезду','Готовность к командировкам'], as_index=False)['ЗП (руб)'].median()\n",
    "fig = px.bar(\n",
    "    data_frame=df_f,\n",
    "    y='Готовность к переезду',\n",
    "    x='ЗП (руб)',\n",
    "    barmode=\"group\",\n",
    "    color='Готовность к командировкам',\n",
    "    orientation='h',\n",
    "    title='Медианная з/п по готовности к командировкам/переезду'\n",
    ")\n",
    "fig.show()\n",
    "fig.write_html('data/fig.html')"
   ]
  },
  {
   "attachments": {},
   "cell_type": "markdown",
   "id": "2cea6fb1",
   "metadata": {},
   "source": [
    "Уровень ождаемой ЗП кандидатов, готовых к командировакам, значительно выше. Также кадидаты, котовые к релокации, указывают более высокий уровень ЗП."
   ]
  },
  {
   "cell_type": "markdown",
   "id": "7b02bb86-0546-40fb-94a4-242f050a5c57",
   "metadata": {},
   "source": [
    "7. Постройте сводную таблицу, иллюстрирующую зависимость **медианной** желаемой заработной платы от возраста (**\"Возраст\"**) и образования (**\"Образование\"**). На полученной сводной таблице постройте **тепловую карту**. Проанализируйте тепловую карту, сравнив показатели внутри групп."
   ]
  },
  {
   "cell_type": "code",
   "execution_count": 40,
   "id": "5a0e32a4-e68a-4365-8a39-2fe24c542c36",
   "metadata": {},
   "outputs": [
    {
     "data": {
      "text/plain": [
       "Text(0.5, 1, 'Зависимость медианной желаемой заработной платы от возраста и образования')"
      ]
     },
     "execution_count": 40,
     "metadata": {},
     "output_type": "execute_result"
    },
    {
     "data": {
      "image/png": "[encoded data removed]",
      "text/plain": [
       "<Figure size 432x288 with 2 Axes>"
      ]
     },
     "metadata": {
      "needs_background": "light"
     },
     "output_type": "display_data"
    }
   ],
   "source": [
    "pivot=pd.pivot_table(data=df, index='Образование', columns='Возраст', aggfunc='median', values='ЗП (руб)')\n",
    "sns.heatmap(pivot).set_title('Зависимость медианной желаемой заработной платы от возраста и образования')"
   ]
  },
  {
   "attachments": {},
   "cell_type": "markdown",
   "id": "7aade1c2-16a0-418c-8427-ad93927c7705",
   "metadata": {},
   "source": [
    "Самые высокие ожидания по ЗП у кандиддатов с высшим образованием в возрастной категории 30-50 лет\n",
    "Категория с наименьшими зарплатными ожиданиями- люди со средним специальным образованием, данные ожидания характерны для всего возрастного диапозона данной группы"
   ]
  },
  {
   "cell_type": "markdown",
   "id": "d0247088-9003-455b-a591-a44650f487c3",
   "metadata": {},
   "source": [
    "8. Постройте **диаграмму рассеяния**, показывающую зависимость опыта работы (**\"Опыт работы (месяц)\"**) от возраста (**\"Возраст\"**). Опыт работы переведите из месяцев в года, чтобы признаки были в едином масштабе. Постройте на графике дополнительно прямую, проходящую через точки (0, 0) и (100, 100). Данная прямая соответствует значениям, когда опыт работы равен возрасту человека. Точки, лежащие на этой прямой и выше нее - аномалии в наших данных (опыт работы больше либо равен возрасту соискателя)"
   ]
  },
  {
   "cell_type": "code",
   "execution_count": 41,
   "id": "877fce89",
   "metadata": {},
   "outputs": [],
   "source": [
    "df['Опыт работ (года)']=round(df['Опыт работы (месяц)']/12,0)"
   ]
  },
  {
   "cell_type": "code",
   "execution_count": 42,
   "id": "a4143e50-b900-4ec8-9ae9-fc3ec3347287",
   "metadata": {},
   "outputs": [
    {
     "data": {
      "image/png": "[encoded data removed]",
      "text/plain": [
       "<Figure size 432x288 with 1 Axes>"
      ]
     },
     "metadata": {
      "needs_background": "light"
     },
     "output_type": "display_data"
    }
   ],
   "source": [
    " \n",
    "plt.figure()\n",
    "plt.scatter(df['Возраст'],df['Опыт работ (года)'], color = 'k', alpha=0.5)\n",
    "plt.plot([0, 100], [0,100],  color = 'r')\n",
    "#plt.xlim(lineStart, lineEnd)\n",
    "#plt.ylim(lineStart, lineEnd)\n",
    "plt.title(\"Зависимость опыта работы от возраста \")\n",
    "plt.xlabel(\"Возраст, года\")\n",
    "plt.ylabel(\"Опыт работы, года\")\n",
    "plt.show();"
   ]
  },
  {
   "attachments": {},
   "cell_type": "markdown",
   "id": "6f9218ff-52c7-4742-b328-4db5d4da7262",
   "metadata": {},
   "source": [
    "Данная зависимость стремится к линейной: чем выше возраст, тем больше опыта. Есть несколько выбросов по соотношению опыта работы к возрасту"
   ]
  },
  {
   "cell_type": "markdown",
   "id": "0cc3b0d5-b551-424d-9956-8da18fce17a1",
   "metadata": {},
   "source": [
    "**Дополнительные баллы**\n",
    "\n",
    "Для получения 2 дополнительных баллов по разведывательному анализу постройте еще два любых содержательных графика или диаграммы, которые помогут проиллюстрировать влияние признаков/взаимосвязь между признаками/распределения признаков. Приведите выводы по ним. Желательно, чтобы в анализе участвовали признаки, которые мы создавали ранее в разделе \"Преобразование данных\".\n"
   ]
  },
  {
   "attachments": {},
   "cell_type": "markdown",
   "id": "ecd9f8a0",
   "metadata": {},
   "source": [
    "Ни одна характеристика не имет сильной взаимосвязи с ожидаемой ЗП в соответствии с коэффициенотм phik\n",
    "Посмотрим на коэффициент корреляции:"
   ]
  },
  {
   "cell_type": "code",
   "execution_count": 43,
   "id": "46af5cc9",
   "metadata": {},
   "outputs": [
    {
     "data": {
      "image/png": "[encoded data removed]",
      "text/plain": [
       "<Figure size 432x288 with 2 Axes>"
      ]
     },
     "metadata": {
      "needs_background": "light"
     },
     "output_type": "display_data"
    }
   ],
   "source": [
    "sns.heatmap(df.corr());"
   ]
  },
  {
   "attachments": {},
   "cell_type": "markdown",
   "id": "57f82f10",
   "metadata": {},
   "source": [
    "Согласно полученному графику сильной корреляции между признаком ЗП и прочими характеристиками не зафиксировано. Наиболее коррелирующие признаки:\n",
    "- опыт работы\n",
    "- готовность к командировакам\n",
    "- возраст\n",
    "- готовность к переезду\n"
   ]
  },
  {
   "attachments": {},
   "cell_type": "markdown",
   "id": "718fd69d",
   "metadata": {},
   "source": [
    "Попробуем сгруппировать кандидатов по должностям.\n",
    "Для того выделим перечень групп:"
   ]
  },
  {
   "cell_type": "code",
   "execution_count": 44,
   "id": "0ee943fd",
   "metadata": {},
   "outputs": [],
   "source": [
    "def position(row):\n",
    "    row=row.lower()\n",
    "    \n",
    "    def search_(row, list_):\n",
    "        for i in list_:\n",
    "            if i in row:\n",
    "                return True\n",
    "        return False\n",
    "    \n",
    "    if search_(row, ['руководитель','менеджер', 'начальн', 'директор', 'manag']):\n",
    "        return 'руководитель'  \n",
    "    if search_(row, ['програм',  'разработ', 'develop']):\n",
    "        return 'it-разработчик'\n",
    "    if search_(row, [' it ','it-','web','seo-','веб-дизайнер', 'версталь', '-it',' it', 'it ','системн', 'програм', ' ит ', 'data-sci', ' ит-','ит-', 'компьютер','технич', 'аналитик','тестировщ', 'разработ', 'интернет', 'информац']):\n",
    "        return 'прочие it-специльаности'\n",
    "    if search_(row, ['инженер']):\n",
    "        return 'инженер'\n",
    "    if search_(row, ['оператор']):\n",
    "        return 'оператор'\n",
    "    if search_(row, ['монтажник']):\n",
    "        return 'монтажник'\n",
    "    if search_(row, ['электрик']):\n",
    "        return 'электрик'\n",
    "    if search_(row, ['администратор']):\n",
    "        return 'администратор'\n",
    "    else:\n",
    "        return 'other'\n",
    "\n",
    "df['position']=df['Ищет работу на должность:'].apply(position)"
   ]
  },
  {
   "cell_type": "code",
   "execution_count": 45,
   "id": "89534190",
   "metadata": {},
   "outputs": [
    {
     "data": {
      "image/png": "[encoded data removed]",
      "text/plain": [
       "<Figure size 576x288 with 1 Axes>"
      ]
     },
     "metadata": {
      "needs_background": "light"
     },
     "output_type": "display_data"
    }
   ],
   "source": [
    "df_f=pd.DataFrame(df[df['ЗП (руб)']<1000000].groupby('position')['ЗП (руб)'].median().sort_values())\n",
    "df_f=df_f.reset_index()\n",
    "fig, axes=plt.subplots( figsize=(8,4))\n",
    "axes.bar(height=df_f['ЗП (руб)'], x=df_f['position']);\n",
    "axes.set_title('Распределение ожидаемой ЗП (медиана) соискателей по должностям')\n",
    "axes.set_ylabel('руб')\n",
    "axes.xaxis.set_tick_params(rotation=25,\n",
    "                         labelsize=9\n",
    "                         #,labelcolor=\"b\"\n",
    "                         )\n"
   ]
  },
  {
   "cell_type": "code",
   "execution_count": 46,
   "id": "4fae5392",
   "metadata": {},
   "outputs": [],
   "source": [
    "df=df.drop('соотношение опыта к возрасту', axis=1)"
   ]
  },
  {
   "attachments": {},
   "cell_type": "markdown",
   "id": "334083b0",
   "metadata": {},
   "source": [
    "Кандидаты, претендующие на руководящие должности, указывают уровень ЗП значительно выше остальных рассматриваемых групп. Также можно выделить it-разработчиков"
   ]
  },
  {
   "cell_type": "markdown",
   "id": "b1ef156a-efcb-49ce-bb23-90763e7f35b2",
   "metadata": {
    "tags": []
   },
   "source": [
    "# Очистка данных"
   ]
  },
  {
   "cell_type": "markdown",
   "id": "b9cd50a0-992d-4988-8463-2b2b1c4629b4",
   "metadata": {},
   "source": [
    "1. Начнем с дубликатов в наших данных. Найдите **полные дубликаты** в таблице с резюме и удалите их. "
   ]
  },
  {
   "cell_type": "code",
   "execution_count": 47,
   "id": "54ab0e50-c0f1-47cc-a54b-bc5c8bc363f9",
   "metadata": {},
   "outputs": [
    {
     "data": {
      "text/plain": [
       "44744"
      ]
     },
     "metadata": {},
     "output_type": "display_data"
    },
    {
     "data": {
      "text/plain": [
       "161"
      ]
     },
     "execution_count": 47,
     "metadata": {},
     "output_type": "execute_result"
    }
   ],
   "source": [
    "display(df.shape[0])\n",
    "df[df.duplicated()].shape[0]"
   ]
  },
  {
   "cell_type": "code",
   "execution_count": 48,
   "id": "7e8a437f",
   "metadata": {},
   "outputs": [],
   "source": [
    "df=df.drop_duplicates()"
   ]
  },
  {
   "cell_type": "code",
   "execution_count": 49,
   "id": "04cc1843",
   "metadata": {},
   "outputs": [
    {
     "data": {
      "text/plain": [
       "44583"
      ]
     },
     "execution_count": 49,
     "metadata": {},
     "output_type": "execute_result"
    }
   ],
   "source": [
    "df.shape[0]"
   ]
  },
  {
   "cell_type": "code",
   "execution_count": 50,
   "id": "924cc646",
   "metadata": {},
   "outputs": [
    {
     "data": {
      "text/html": [
       "<div>\n",
       "<style scoped>\n",
       "    .dataframe tbody tr th:only-of-type {\n",
       "        vertical-align: middle;\n",
       "    }\n",
       "\n",
       "    .dataframe tbody tr th {\n",
       "        vertical-align: top;\n",
       "    }\n",
       "\n",
       "    .dataframe thead th {\n",
       "        text-align: right;\n",
       "    }\n",
       "</style>\n",
       "<table border=\"1\" class=\"dataframe\">\n",
       "  <thead>\n",
       "    <tr style=\"text-align: right;\">\n",
       "      <th></th>\n",
       "      <th>Ищет работу на должность:</th>\n",
       "      <th>Последнее/нынешнее место работы</th>\n",
       "      <th>Последняя/нынешняя должность</th>\n",
       "      <th>Обновление резюме</th>\n",
       "      <th>Авто</th>\n",
       "      <th>Образование</th>\n",
       "      <th>Пол</th>\n",
       "      <th>Возраст</th>\n",
       "      <th>Опыт работы (месяц)</th>\n",
       "      <th>Город</th>\n",
       "      <th>...</th>\n",
       "      <th>сменный график</th>\n",
       "      <th>проектная работа</th>\n",
       "      <th>гибкий график</th>\n",
       "      <th>волонтерство</th>\n",
       "      <th>удаленная работа</th>\n",
       "      <th>стажировка</th>\n",
       "      <th>вахтовый метод</th>\n",
       "      <th>ЗП (руб)</th>\n",
       "      <th>Опыт работ (года)</th>\n",
       "      <th>position</th>\n",
       "    </tr>\n",
       "  </thead>\n",
       "  <tbody>\n",
       "    <tr>\n",
       "      <th>0</th>\n",
       "      <td>Системный администратор</td>\n",
       "      <td>МАОУ \"СОШ № 1 г.Немана\"</td>\n",
       "      <td>Системный администратор</td>\n",
       "      <td>2019-04-16</td>\n",
       "      <td>Имеется собственный автомобиль</td>\n",
       "      <td>Неоконченное высшее образование</td>\n",
       "      <td>М</td>\n",
       "      <td>39</td>\n",
       "      <td>202.0</td>\n",
       "      <td>другие</td>\n",
       "      <td>...</td>\n",
       "      <td>True</td>\n",
       "      <td>True</td>\n",
       "      <td>True</td>\n",
       "      <td>False</td>\n",
       "      <td>True</td>\n",
       "      <td>False</td>\n",
       "      <td>True</td>\n",
       "      <td>29000.0</td>\n",
       "      <td>17.0</td>\n",
       "      <td>прочие it-специльаности</td>\n",
       "    </tr>\n",
       "    <tr>\n",
       "      <th>1</th>\n",
       "      <td>Технический писатель</td>\n",
       "      <td>Временный трудовой коллектив</td>\n",
       "      <td>Менеджер проекта, Аналитик, Технический писатель</td>\n",
       "      <td>2019-04-12</td>\n",
       "      <td>Не указано</td>\n",
       "      <td>Высшее образование</td>\n",
       "      <td>М</td>\n",
       "      <td>60</td>\n",
       "      <td>233.0</td>\n",
       "      <td>другие</td>\n",
       "      <td>...</td>\n",
       "      <td>True</td>\n",
       "      <td>True</td>\n",
       "      <td>True</td>\n",
       "      <td>False</td>\n",
       "      <td>True</td>\n",
       "      <td>False</td>\n",
       "      <td>False</td>\n",
       "      <td>40000.0</td>\n",
       "      <td>19.0</td>\n",
       "      <td>прочие it-специльаности</td>\n",
       "    </tr>\n",
       "    <tr>\n",
       "      <th>2</th>\n",
       "      <td>Оператор</td>\n",
       "      <td>ПАО Сбербанк</td>\n",
       "      <td>Кассир-операционист</td>\n",
       "      <td>2019-04-16</td>\n",
       "      <td>Не указано</td>\n",
       "      <td>Среднее специальное образование</td>\n",
       "      <td>Ж</td>\n",
       "      <td>36</td>\n",
       "      <td>123.0</td>\n",
       "      <td>другие</td>\n",
       "      <td>...</td>\n",
       "      <td>False</td>\n",
       "      <td>False</td>\n",
       "      <td>False</td>\n",
       "      <td>False</td>\n",
       "      <td>False</td>\n",
       "      <td>False</td>\n",
       "      <td>False</td>\n",
       "      <td>20000.0</td>\n",
       "      <td>10.0</td>\n",
       "      <td>оператор</td>\n",
       "    </tr>\n",
       "    <tr>\n",
       "      <th>3</th>\n",
       "      <td>Веб-разработчик (HTML / CSS / JS / PHP / базы ...</td>\n",
       "      <td>OpenSoft</td>\n",
       "      <td>Инженер-программист</td>\n",
       "      <td>2019-04-08</td>\n",
       "      <td>Не указано</td>\n",
       "      <td>Высшее образование</td>\n",
       "      <td>М</td>\n",
       "      <td>38</td>\n",
       "      <td>225.0</td>\n",
       "      <td>другие</td>\n",
       "      <td>...</td>\n",
       "      <td>False</td>\n",
       "      <td>True</td>\n",
       "      <td>True</td>\n",
       "      <td>False</td>\n",
       "      <td>True</td>\n",
       "      <td>False</td>\n",
       "      <td>False</td>\n",
       "      <td>100000.0</td>\n",
       "      <td>19.0</td>\n",
       "      <td>it-разработчик</td>\n",
       "    </tr>\n",
       "    <tr>\n",
       "      <th>4</th>\n",
       "      <td>Региональный менеджер по продажам</td>\n",
       "      <td>Мармелад</td>\n",
       "      <td>Менеджер по продажам</td>\n",
       "      <td>2019-04-22</td>\n",
       "      <td>Не указано</td>\n",
       "      <td>Высшее образование</td>\n",
       "      <td>Ж</td>\n",
       "      <td>26</td>\n",
       "      <td>67.0</td>\n",
       "      <td>Москва</td>\n",
       "      <td>...</td>\n",
       "      <td>False</td>\n",
       "      <td>False</td>\n",
       "      <td>False</td>\n",
       "      <td>False</td>\n",
       "      <td>False</td>\n",
       "      <td>False</td>\n",
       "      <td>False</td>\n",
       "      <td>140000.0</td>\n",
       "      <td>6.0</td>\n",
       "      <td>руководитель</td>\n",
       "    </tr>\n",
       "    <tr>\n",
       "      <th>...</th>\n",
       "      <td>...</td>\n",
       "      <td>...</td>\n",
       "      <td>...</td>\n",
       "      <td>...</td>\n",
       "      <td>...</td>\n",
       "      <td>...</td>\n",
       "      <td>...</td>\n",
       "      <td>...</td>\n",
       "      <td>...</td>\n",
       "      <td>...</td>\n",
       "      <td>...</td>\n",
       "      <td>...</td>\n",
       "      <td>...</td>\n",
       "      <td>...</td>\n",
       "      <td>...</td>\n",
       "      <td>...</td>\n",
       "      <td>...</td>\n",
       "      <td>...</td>\n",
       "      <td>...</td>\n",
       "      <td>...</td>\n",
       "      <td>...</td>\n",
       "    </tr>\n",
       "    <tr>\n",
       "      <th>44739</th>\n",
       "      <td>Финансист, аналитик, экономист, бухгалтер, мен...</td>\n",
       "      <td>ООО \"IAS\" (независимый участник объединения Ru...</td>\n",
       "      <td>Руководитель субгруппы</td>\n",
       "      <td>2019-04-22</td>\n",
       "      <td>Не указано</td>\n",
       "      <td>Высшее образование</td>\n",
       "      <td>М</td>\n",
       "      <td>30</td>\n",
       "      <td>91.0</td>\n",
       "      <td>другие</td>\n",
       "      <td>...</td>\n",
       "      <td>False</td>\n",
       "      <td>False</td>\n",
       "      <td>False</td>\n",
       "      <td>False</td>\n",
       "      <td>True</td>\n",
       "      <td>False</td>\n",
       "      <td>False</td>\n",
       "      <td>50000.0</td>\n",
       "      <td>8.0</td>\n",
       "      <td>руководитель</td>\n",
       "    </tr>\n",
       "    <tr>\n",
       "      <th>44740</th>\n",
       "      <td>Системный администратор, IT-специалист</td>\n",
       "      <td>ИП Пестрецов</td>\n",
       "      <td>Предприниматель</td>\n",
       "      <td>2019-04-22</td>\n",
       "      <td>Не указано</td>\n",
       "      <td>Высшее образование</td>\n",
       "      <td>М</td>\n",
       "      <td>27</td>\n",
       "      <td>84.0</td>\n",
       "      <td>другие</td>\n",
       "      <td>...</td>\n",
       "      <td>True</td>\n",
       "      <td>True</td>\n",
       "      <td>True</td>\n",
       "      <td>False</td>\n",
       "      <td>True</td>\n",
       "      <td>False</td>\n",
       "      <td>False</td>\n",
       "      <td>39000.0</td>\n",
       "      <td>7.0</td>\n",
       "      <td>прочие it-специльаности</td>\n",
       "    </tr>\n",
       "    <tr>\n",
       "      <th>44741</th>\n",
       "      <td>Аналитик данных, Математик</td>\n",
       "      <td>ОАО «ЧМК», Исследовательско-Технологический Це...</td>\n",
       "      <td>Начальник группы аналитики</td>\n",
       "      <td>2019-04-09</td>\n",
       "      <td>Не указано</td>\n",
       "      <td>Высшее образование</td>\n",
       "      <td>Ж</td>\n",
       "      <td>48</td>\n",
       "      <td>257.0</td>\n",
       "      <td>город-миллионник</td>\n",
       "      <td>...</td>\n",
       "      <td>False</td>\n",
       "      <td>False</td>\n",
       "      <td>False</td>\n",
       "      <td>False</td>\n",
       "      <td>True</td>\n",
       "      <td>False</td>\n",
       "      <td>False</td>\n",
       "      <td>40000.0</td>\n",
       "      <td>21.0</td>\n",
       "      <td>прочие it-специльаности</td>\n",
       "    </tr>\n",
       "    <tr>\n",
       "      <th>44742</th>\n",
       "      <td>Контент-менеджер</td>\n",
       "      <td>IQ-Maxima</td>\n",
       "      <td>Менеджер проектов</td>\n",
       "      <td>2019-04-26</td>\n",
       "      <td>Имеется собственный автомобиль</td>\n",
       "      <td>Высшее образование</td>\n",
       "      <td>М</td>\n",
       "      <td>24</td>\n",
       "      <td>46.0</td>\n",
       "      <td>другие</td>\n",
       "      <td>...</td>\n",
       "      <td>False</td>\n",
       "      <td>False</td>\n",
       "      <td>False</td>\n",
       "      <td>False</td>\n",
       "      <td>True</td>\n",
       "      <td>False</td>\n",
       "      <td>False</td>\n",
       "      <td>20000.0</td>\n",
       "      <td>4.0</td>\n",
       "      <td>руководитель</td>\n",
       "    </tr>\n",
       "    <tr>\n",
       "      <th>44743</th>\n",
       "      <td>Руководитель проекта</td>\n",
       "      <td>ПАО ГК ТНС энерго</td>\n",
       "      <td>Руководитель отдела технической поддержки</td>\n",
       "      <td>2018-07-05</td>\n",
       "      <td>Не указано</td>\n",
       "      <td>Высшее образование</td>\n",
       "      <td>М</td>\n",
       "      <td>38</td>\n",
       "      <td>190.0</td>\n",
       "      <td>Москва</td>\n",
       "      <td>...</td>\n",
       "      <td>False</td>\n",
       "      <td>False</td>\n",
       "      <td>False</td>\n",
       "      <td>False</td>\n",
       "      <td>False</td>\n",
       "      <td>False</td>\n",
       "      <td>False</td>\n",
       "      <td>120000.0</td>\n",
       "      <td>16.0</td>\n",
       "      <td>руководитель</td>\n",
       "    </tr>\n",
       "  </tbody>\n",
       "</table>\n",
       "<p>44583 rows × 25 columns</p>\n",
       "</div>"
      ],
      "text/plain": [
       "                               Ищет работу на должность:  \\\n",
       "0                                Системный администратор   \n",
       "1                                   Технический писатель   \n",
       "2                                               Оператор   \n",
       "3      Веб-разработчик (HTML / CSS / JS / PHP / базы ...   \n",
       "4                      Региональный менеджер по продажам   \n",
       "...                                                  ...   \n",
       "44739  Финансист, аналитик, экономист, бухгалтер, мен...   \n",
       "44740             Системный администратор, IT-специалист   \n",
       "44741                         Аналитик данных, Математик   \n",
       "44742                                   Контент-менеджер   \n",
       "44743                               Руководитель проекта   \n",
       "\n",
       "                         Последнее/нынешнее место работы  \\\n",
       "0                                МАОУ \"СОШ № 1 г.Немана\"   \n",
       "1                           Временный трудовой коллектив   \n",
       "2                                           ПАО Сбербанк   \n",
       "3                                               OpenSoft   \n",
       "4                                               Мармелад   \n",
       "...                                                  ...   \n",
       "44739  ООО \"IAS\" (независимый участник объединения Ru...   \n",
       "44740                                       ИП Пестрецов   \n",
       "44741  ОАО «ЧМК», Исследовательско-Технологический Це...   \n",
       "44742                                          IQ-Maxima   \n",
       "44743                                  ПАО ГК ТНС энерго   \n",
       "\n",
       "                           Последняя/нынешняя должность Обновление резюме  \\\n",
       "0                               Системный администратор        2019-04-16   \n",
       "1      Менеджер проекта, Аналитик, Технический писатель        2019-04-12   \n",
       "2                                   Кассир-операционист        2019-04-16   \n",
       "3                                   Инженер-программист        2019-04-08   \n",
       "4                                  Менеджер по продажам        2019-04-22   \n",
       "...                                                 ...               ...   \n",
       "44739                            Руководитель субгруппы        2019-04-22   \n",
       "44740                                   Предприниматель        2019-04-22   \n",
       "44741                        Начальник группы аналитики        2019-04-09   \n",
       "44742                                 Менеджер проектов        2019-04-26   \n",
       "44743         Руководитель отдела технической поддержки        2018-07-05   \n",
       "\n",
       "                                 Авто                       Образование Пол  \\\n",
       "0      Имеется собственный автомобиль  Неоконченное высшее образование    М   \n",
       "1                          Не указано               Высшее образование    М   \n",
       "2                          Не указано  Среднее специальное образование    Ж   \n",
       "3                          Не указано               Высшее образование    М   \n",
       "4                          Не указано               Высшее образование    Ж   \n",
       "...                               ...                               ...  ..   \n",
       "44739                      Не указано               Высшее образование    М   \n",
       "44740                      Не указано               Высшее образование    М   \n",
       "44741                      Не указано               Высшее образование    Ж   \n",
       "44742  Имеется собственный автомобиль               Высшее образование    М   \n",
       "44743                      Не указано               Высшее образование    М   \n",
       "\n",
       "       Возраст  Опыт работы (месяц)             Город  ...  сменный график  \\\n",
       "0           39                202.0            другие  ...            True   \n",
       "1           60                233.0            другие  ...            True   \n",
       "2           36                123.0            другие  ...           False   \n",
       "3           38                225.0            другие  ...           False   \n",
       "4           26                 67.0            Москва  ...           False   \n",
       "...        ...                  ...               ...  ...             ...   \n",
       "44739       30                 91.0            другие  ...           False   \n",
       "44740       27                 84.0            другие  ...            True   \n",
       "44741       48                257.0  город-миллионник  ...           False   \n",
       "44742       24                 46.0            другие  ...           False   \n",
       "44743       38                190.0            Москва  ...           False   \n",
       "\n",
       "       проектная работа  гибкий график  волонтерство  удаленная работа  \\\n",
       "0                  True           True         False              True   \n",
       "1                  True           True         False              True   \n",
       "2                 False          False         False             False   \n",
       "3                  True           True         False              True   \n",
       "4                 False          False         False             False   \n",
       "...                 ...            ...           ...               ...   \n",
       "44739             False          False         False              True   \n",
       "44740              True           True         False              True   \n",
       "44741             False          False         False              True   \n",
       "44742             False          False         False              True   \n",
       "44743             False          False         False             False   \n",
       "\n",
       "       стажировка  вахтовый метод  ЗП (руб)  Опыт работ (года)  \\\n",
       "0           False            True   29000.0               17.0   \n",
       "1           False           False   40000.0               19.0   \n",
       "2           False           False   20000.0               10.0   \n",
       "3           False           False  100000.0               19.0   \n",
       "4           False           False  140000.0                6.0   \n",
       "...           ...             ...       ...                ...   \n",
       "44739       False           False   50000.0                8.0   \n",
       "44740       False           False   39000.0                7.0   \n",
       "44741       False           False   40000.0               21.0   \n",
       "44742       False           False   20000.0                4.0   \n",
       "44743       False           False  120000.0               16.0   \n",
       "\n",
       "                      position  \n",
       "0      прочие it-специльаности  \n",
       "1      прочие it-специльаности  \n",
       "2                     оператор  \n",
       "3               it-разработчик  \n",
       "4                 руководитель  \n",
       "...                        ...  \n",
       "44739             руководитель  \n",
       "44740  прочие it-специльаности  \n",
       "44741  прочие it-специльаности  \n",
       "44742             руководитель  \n",
       "44743             руководитель  \n",
       "\n",
       "[44583 rows x 25 columns]"
      ]
     },
     "execution_count": 50,
     "metadata": {},
     "output_type": "execute_result"
    }
   ],
   "source": [
    "df"
   ]
  },
  {
   "cell_type": "markdown",
   "id": "4dea20cb-a36b-474a-a0b9-e08e8e3857a5",
   "metadata": {},
   "source": [
    "2. Займемся пропусками. Выведите информацию **о числе пропусков** в столбцах. "
   ]
  },
  {
   "cell_type": "code",
   "execution_count": 51,
   "id": "9c61b3c0-bb66-46c9-ae1e-81d3f5752b4a",
   "metadata": {},
   "outputs": [
    {
     "data": {
      "text/plain": [
       "Ищет работу на должность:            0\n",
       "Последнее/нынешнее место работы      1\n",
       "Последняя/нынешняя должность         2\n",
       "Обновление резюме                    0\n",
       "Авто                                 0\n",
       "Образование                          0\n",
       "Пол                                  0\n",
       "Возраст                              0\n",
       "Опыт работы (месяц)                168\n",
       "Город                                0\n",
       "Готовность к переезду                0\n",
       "Готовность к командировкам           0\n",
       "полная занятость                     0\n",
       "полный день                          0\n",
       "частичная занятость                  0\n",
       "сменный график                       0\n",
       "проектная работа                     0\n",
       "гибкий график                        0\n",
       "волонтерство                         0\n",
       "удаленная работа                     0\n",
       "стажировка                           0\n",
       "вахтовый метод                       0\n",
       "ЗП (руб)                             0\n",
       "Опыт работ (года)                  168\n",
       "position                             0\n",
       "dtype: int64"
      ]
     },
     "execution_count": 51,
     "metadata": {},
     "output_type": "execute_result"
    }
   ],
   "source": [
    "df.isnull().sum()"
   ]
  },
  {
   "cell_type": "markdown",
   "id": "eedceb80-c5ca-480e-b27a-278dfb8b4438",
   "metadata": {},
   "source": [
    "3. Итак, у нас есть пропуски в 3ех столбцах: **\"Опыт работы (месяц)\"**, **\"Последнее/нынешнее место работы\"**, **\"Последняя/нынешняя должность\"**. Поступим следующим образом: удалите строки, где есть пропуск в столбцах с местом работы и должностью. Пропуски в столбце с опытом работы заполните **медианным** значением."
   ]
  },
  {
   "cell_type": "code",
   "execution_count": 52,
   "id": "69621713-0cc5-4f1b-a1d7-bb144fa6148c",
   "metadata": {},
   "outputs": [
    {
     "name": "stdout",
     "output_type": "stream",
     "text": [
      "114\n"
     ]
    },
    {
     "name": "stderr",
     "output_type": "stream",
     "text": [
      "c:\\Users\\novikova_a\\Anaconda3\\lib\\site-packages\\ipykernel_launcher.py:2: SettingWithCopyWarning:\n",
      "\n",
      "\n",
      "A value is trying to be set on a copy of a slice from a DataFrame.\n",
      "Try using .loc[row_indexer,col_indexer] = value instead\n",
      "\n",
      "See the caveats in the documentation: https://pandas.pydata.org/pandas-docs/stable/user_guide/indexing.html#returning-a-view-versus-a-copy\n",
      "\n"
     ]
    }
   ],
   "source": [
    "df = df.dropna(subset=['Последнее/нынешнее место работы', 'Последняя/нынешняя должность'])\n",
    "df['Опыт работы (месяц)'] = df['Опыт работы (месяц)'].fillna(df['Опыт работы (месяц)'].median())\n",
    "print(round(df['Опыт работы (месяц)'].mean()))"
   ]
  },
  {
   "cell_type": "markdown",
   "id": "1be1e9c6-37cf-4a5f-bfeb-04cab799dc80",
   "metadata": {},
   "source": [
    "4. Мы добрались до ликвидации выбросов. Сначала очистим данные вручную. Удалите резюме, в которых указана заработная плата либо выше 1 млн. рублей, либо ниже 1 тыс. рублей."
   ]
  },
  {
   "cell_type": "code",
   "execution_count": 53,
   "id": "0036a355-9ccf-4564-8b01-73d8194297e7",
   "metadata": {},
   "outputs": [
    {
     "data": {
      "text/plain": [
       "89"
      ]
     },
     "metadata": {},
     "output_type": "display_data"
    }
   ],
   "source": [
    "display(df[(df['ЗП (руб)']>1000000) | (df['ЗП (руб)']<1000)].shape[0])\n",
    "df=df[(df['ЗП (руб)']<1000000) & (df['ЗП (руб)']>1000)]"
   ]
  },
  {
   "cell_type": "markdown",
   "id": "ec3c8db7-fa21-4a41-a994-1af63742a642",
   "metadata": {},
   "source": [
    "5. В процессе разведывательного анализа мы обнаружили резюме, в которых **опыт работы в годах превышал возраст соискателя**. Найдите такие резюме и удалите их из данных\n"
   ]
  },
  {
   "cell_type": "code",
   "execution_count": 54,
   "id": "949132bc-d5b6-4611-8218-0b9a504d74f4",
   "metadata": {},
   "outputs": [
    {
     "data": {
      "text/plain": [
       "7"
      ]
     },
     "metadata": {},
     "output_type": "display_data"
    }
   ],
   "source": [
    "display(df[df['Опыт работ (года)']>=df['Возраст']].shape[0])\n",
    "df=df[df['Опыт работ (года)']<df['Возраст']]"
   ]
  },
  {
   "cell_type": "markdown",
   "id": "1041c17a-ca8f-4543-a0ca-32778914fb00",
   "metadata": {},
   "source": [
    "6. В результате анализа мы обнаружили потенциальные выбросы в признаке **\"Возраст\"**. Это оказались резюме людей чересчур преклонного возраста для поиска работы. Попробуйте построить распределение признака в **логарифмическом масштабе**. Добавьте к графику линии, отображающие **среднее и границы интервала метода трех сигм**. Напомним, сделать это можно с помощью метода axvline. Например, для построение линии среднего будет иметь вид:\n",
    "\n",
    "`histplot.axvline(log_age.mean(), color='k', lw=2)`\n",
    "\n",
    "В какую сторону асимметрично логарифмическое распределение? Напишите об этом в комментарии к графику.\n",
    "Найдите выбросы с помощью метода z-отклонения и удалите их из данных, используйте логарифмический масштаб. Давайте сделаем послабление на **1 сигму** (возьмите 4 сигмы) в **правую сторону**.\n",
    "\n",
    "Выведите таблицу с полученными выбросами и оцените, с каким возрастом соискатели попадают под категорию выбросов?"
   ]
  },
  {
   "cell_type": "code",
   "execution_count": 55,
   "id": "6a743d39-5204-48d3-8271-b9f88e68d40e",
   "metadata": {},
   "outputs": [
    {
     "data": {
      "text/html": [
       "<div>\n",
       "<style scoped>\n",
       "    .dataframe tbody tr th:only-of-type {\n",
       "        vertical-align: middle;\n",
       "    }\n",
       "\n",
       "    .dataframe tbody tr th {\n",
       "        vertical-align: top;\n",
       "    }\n",
       "\n",
       "    .dataframe thead th {\n",
       "        text-align: right;\n",
       "    }\n",
       "</style>\n",
       "<table border=\"1\" class=\"dataframe\">\n",
       "  <thead>\n",
       "    <tr style=\"text-align: right;\">\n",
       "      <th></th>\n",
       "      <th>Ищет работу на должность:</th>\n",
       "      <th>Последнее/нынешнее место работы</th>\n",
       "      <th>Последняя/нынешняя должность</th>\n",
       "      <th>Обновление резюме</th>\n",
       "      <th>Авто</th>\n",
       "      <th>Образование</th>\n",
       "      <th>Пол</th>\n",
       "      <th>Возраст</th>\n",
       "      <th>Опыт работы (месяц)</th>\n",
       "      <th>Город</th>\n",
       "      <th>...</th>\n",
       "      <th>проектная работа</th>\n",
       "      <th>гибкий график</th>\n",
       "      <th>волонтерство</th>\n",
       "      <th>удаленная работа</th>\n",
       "      <th>стажировка</th>\n",
       "      <th>вахтовый метод</th>\n",
       "      <th>ЗП (руб)</th>\n",
       "      <th>Опыт работ (года)</th>\n",
       "      <th>position</th>\n",
       "      <th>log_age</th>\n",
       "    </tr>\n",
       "  </thead>\n",
       "  <tbody>\n",
       "    <tr>\n",
       "      <th>31137</th>\n",
       "      <td>Менеджер по работе с клиентами</td>\n",
       "      <td>ООО \"ФёрстКэшКомпани\"</td>\n",
       "      <td>Менеджер по работе с клиентами</td>\n",
       "      <td>2019-04-06</td>\n",
       "      <td>Не указано</td>\n",
       "      <td>Среднее образование</td>\n",
       "      <td>М</td>\n",
       "      <td>15</td>\n",
       "      <td>2.0</td>\n",
       "      <td>Санкт-Петербург</td>\n",
       "      <td>...</td>\n",
       "      <td>False</td>\n",
       "      <td>True</td>\n",
       "      <td>False</td>\n",
       "      <td>True</td>\n",
       "      <td>False</td>\n",
       "      <td>False</td>\n",
       "      <td>10000.0</td>\n",
       "      <td>0.0</td>\n",
       "      <td>руководитель</td>\n",
       "      <td>2.772589</td>\n",
       "    </tr>\n",
       "    <tr>\n",
       "      <th>32950</th>\n",
       "      <td>Тестировщик игр</td>\n",
       "      <td>OOO ЖМЫХ</td>\n",
       "      <td>Тестировщик ПО</td>\n",
       "      <td>2019-04-09</td>\n",
       "      <td>Не указано</td>\n",
       "      <td>Среднее специальное образование</td>\n",
       "      <td>М</td>\n",
       "      <td>15</td>\n",
       "      <td>3.0</td>\n",
       "      <td>другие</td>\n",
       "      <td>...</td>\n",
       "      <td>False</td>\n",
       "      <td>False</td>\n",
       "      <td>False</td>\n",
       "      <td>False</td>\n",
       "      <td>False</td>\n",
       "      <td>False</td>\n",
       "      <td>2000.0</td>\n",
       "      <td>0.0</td>\n",
       "      <td>прочие it-специльаности</td>\n",
       "      <td>2.772589</td>\n",
       "    </tr>\n",
       "    <tr>\n",
       "      <th>33654</th>\n",
       "      <td>Frontend-разработчик</td>\n",
       "      <td>Freelance</td>\n",
       "      <td>Frontend-разработчик</td>\n",
       "      <td>2019-04-19</td>\n",
       "      <td>Не указано</td>\n",
       "      <td>Среднее специальное образование</td>\n",
       "      <td>М</td>\n",
       "      <td>100</td>\n",
       "      <td>30.0</td>\n",
       "      <td>Санкт-Петербург</td>\n",
       "      <td>...</td>\n",
       "      <td>True</td>\n",
       "      <td>True</td>\n",
       "      <td>False</td>\n",
       "      <td>True</td>\n",
       "      <td>True</td>\n",
       "      <td>False</td>\n",
       "      <td>60000.0</td>\n",
       "      <td>2.0</td>\n",
       "      <td>it-разработчик</td>\n",
       "      <td>4.615121</td>\n",
       "    </tr>\n",
       "  </tbody>\n",
       "</table>\n",
       "<p>3 rows × 26 columns</p>\n",
       "</div>"
      ],
      "text/plain": [
       "            Ищет работу на должность: Последнее/нынешнее место работы  \\\n",
       "31137  Менеджер по работе с клиентами           ООО \"ФёрстКэшКомпани\"   \n",
       "32950                 Тестировщик игр                        OOO ЖМЫХ   \n",
       "33654            Frontend-разработчик                       Freelance   \n",
       "\n",
       "         Последняя/нынешняя должность Обновление резюме        Авто  \\\n",
       "31137  Менеджер по работе с клиентами        2019-04-06  Не указано   \n",
       "32950                  Тестировщик ПО        2019-04-09  Не указано   \n",
       "33654            Frontend-разработчик        2019-04-19  Не указано   \n",
       "\n",
       "                            Образование Пол  Возраст  Опыт работы (месяц)  \\\n",
       "31137              Среднее образование    М       15                  2.0   \n",
       "32950  Среднее специальное образование    М       15                  3.0   \n",
       "33654  Среднее специальное образование    М      100                 30.0   \n",
       "\n",
       "                 Город  ...  проектная работа  гибкий график  волонтерство  \\\n",
       "31137  Санкт-Петербург  ...             False           True         False   \n",
       "32950           другие  ...             False          False         False   \n",
       "33654  Санкт-Петербург  ...              True           True         False   \n",
       "\n",
       "       удаленная работа  стажировка  вахтовый метод  ЗП (руб)  \\\n",
       "31137              True       False           False   10000.0   \n",
       "32950             False       False           False    2000.0   \n",
       "33654              True        True           False   60000.0   \n",
       "\n",
       "       Опыт работ (года)                 position   log_age  \n",
       "31137                0.0             руководитель  2.772589  \n",
       "32950                0.0  прочие it-специльаности  2.772589  \n",
       "33654                2.0           it-разработчик  4.615121  \n",
       "\n",
       "[3 rows x 26 columns]"
      ]
     },
     "metadata": {},
     "output_type": "display_data"
    },
    {
     "data": {
      "image/png": "[encoded data removed]",
      "text/plain": [
       "<Figure size 432x288 with 1 Axes>"
      ]
     },
     "metadata": {
      "needs_background": "light"
     },
     "output_type": "display_data"
    }
   ],
   "source": [
    "df['log_age'] = df['Возраст'].apply(lambda x: np.log(x + 1))\n",
    "#log_age.hist()\n",
    "\n",
    "#fig.axvline(log_age.mean(), color='k', lw=2)\n",
    "left=df['log_age'].mean()-df['log_age'].std()*3\n",
    "right=df['log_age'].mean()+df['log_age'].std()*4\n",
    "\n",
    "plt.hist(df['log_age'])\n",
    "plt.plot([df['log_age'].mean(), df['log_age'].mean()], [0,17000],  color = 'r')\n",
    "plt.plot([left, left], [0,17000],  color = 'g')\n",
    "plt.plot([right, right], [0,17000],  color = 'g')\n",
    "display(df[(df['log_age']<left) | (df['log_age']>right) ])"
   ]
  },
  {
   "cell_type": "code",
   "execution_count": 56,
   "id": "2ca38c5d",
   "metadata": {},
   "outputs": [
    {
     "data": {
      "text/plain": [
       "0.47260974998869354"
      ]
     },
     "execution_count": 56,
     "metadata": {},
     "output_type": "execute_result"
    }
   ],
   "source": [
    "stats.skew(df['log_age'])"
   ]
  },
  {
   "cell_type": "markdown",
   "id": "6cd9b7cb",
   "metadata": {},
   "source": [
    "As>0 правосторонняя ассиметрия. Кол-во выбросов - 3. Один кандидат с возрастом 100, 2ое - менее 16 лет."
   ]
  }
 ],
 "metadata": {
  "kernelspec": {
   "display_name": "Python 3.7.6 ('base')",
   "language": "python",
   "name": "python3"
  },
  "language_info": {
   "codemirror_mode": {
    "name": "ipython",
    "version": 3
   },
   "file_extension": ".py",
   "mimetype": "text/x-python",
   "name": "python",
   "nbconvert_exporter": "python",
   "pygments_lexer": "ipython3",
   "version": "3.7.6"
  },
  "vscode": {
   "interpreter": {
    "hash": "8938196ec9ddfeef2881a6d89e79368b67ea58ff438e3b4056dc182225414dfd"
   }
  }
 },
 "nbformat": 4,
 "nbformat_minor": 5
}
