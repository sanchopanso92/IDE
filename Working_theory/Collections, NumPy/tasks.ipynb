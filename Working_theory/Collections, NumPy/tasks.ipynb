{
 "cells": [
  {
   "attachments": {},
   "cell_type": "markdown",
   "metadata": {},
   "source": [
    "Напишите функцию get_chess(a), которая принимает на вход длину стороны квадрата a и возвращает двумерный массив формы (a, a), заполненный 0 и 1 в шахматном порядке. В левом верхнем углу всегда должен быть ноль."
   ]
  },
  {
   "cell_type": "code",
   "execution_count": 1,
   "metadata": {},
   "outputs": [],
   "source": [
    "import numpy as np\n",
    "\n",
    "def get_chess(a):\n",
    "    chess=np.zeros((a,a))\n",
    "    chess[0::2,1::2]=1\n",
    "    chess[1::2,0::2]=1\n",
    "    return chess"
   ]
  },
  {
   "attachments": {},
   "cell_type": "markdown",
   "metadata": {},
   "source": [
    "Вы разрабатываете приложение для прослушивания музыки. Конечно же, там будет доступна функция перемешивания плейлиста. Пользователю может настолько понравиться перемешанная версия плейлиста, что он захочет сохранить его копию. Однако вы не хотите хранить в памяти новую версию плейлиста, а просто хотите сохранять тот seed, с которым он был сгенерирован.\n",
    "\n",
    "Для этого напишите функцию shuffle_seed(array), которая принимает на вход массив из чисел, генерирует случайное число для seed в диапазоне от 0 до 2**32 - 1 (включительно) и возвращает кортеж: перемешанный с данным seed массив (исходный массив должен оставаться без изменений), а также seed, с которым этот массив был получен."
   ]
  },
  {
   "cell_type": "code",
   "execution_count": 2,
   "metadata": {},
   "outputs": [],
   "source": [
    "import numpy as np\n",
    "\n",
    "array = [1, 2, 3, 4, 5]\n",
    "\n",
    "def shuffle_seed(array):\n",
    "    seed_random=np.random.randint(0, 2**32, 1, dtype=np.int64)\n",
    "    np.random.seed(seed_random)\n",
    "    new_array=np.random.permutation(array)\n",
    "    return (new_array, seed_random[0])"
   ]
  },
  {
   "attachments": {},
   "cell_type": "markdown",
   "metadata": {},
   "source": [
    "Напишите функцию min_max_dist(*vectors), которая принимает на вход неограниченное число векторов через запятую. Гарантируется, что все векторы, которые передаются, одинаковой длины.\n",
    "\n",
    "Функция возвращает минимальное и максимальное расстояние между векторами в виде кортежа."
   ]
  },
  {
   "cell_type": "code",
   "execution_count": 3,
   "metadata": {},
   "outputs": [],
   "source": [
    "# Введите свое решение ниже\n",
    "import numpy as np\n",
    "\n",
    "vec1 = np.array([1,2,3])\n",
    "vec2 = np.array([4,5,6])\n",
    "vec3 = np.array([7, 8, 9])\n",
    "\n",
    "def min_max_dist(*vectors):\n",
    "    all_dist=[]\n",
    "    for num, x in enumerate(vectors):\n",
    "        for y in vectors[num+1:]:\n",
    "            distanse=np.linalg.norm(x-y)\n",
    "            all_dist.append(distanse)\n",
    "    return (min(all_dist), max(all_dist))\n"
   ]
  },
  {
   "attachments": {},
   "cell_type": "markdown",
   "metadata": {},
   "source": [
    "Напишите функцию get_unique_loto(num). Она так же, как и функция в задании 49.9.10, генерирует num полей для игры в лото, однако теперь на каждом поле 5х5 числа не могут повторяться.\n",
    "\n",
    "Функция также должна возвращать массив формы num x 5 x 5."
   ]
  },
  {
   "cell_type": "code",
   "execution_count": 4,
   "metadata": {},
   "outputs": [],
   "source": [
    "import numpy as np\n",
    "\n",
    "def get_unique_loto(num):\n",
    "    loto=[]\n",
    "    for i in range(num):\n",
    "        line=np.random.choice(np.arange(1, 101), size=(5,5), replace =False)\n",
    "        loto.append(line)\n",
    "        \n",
    "    return np.array(loto)"
   ]
  }
 ],
 "metadata": {
  "kernelspec": {
   "display_name": "Python 3",
   "language": "python",
   "name": "python3"
  },
  "language_info": {
   "codemirror_mode": {
    "name": "ipython",
    "version": 3
   },
   "file_extension": ".py",
   "mimetype": "text/x-python",
   "name": "python",
   "nbconvert_exporter": "python",
   "pygments_lexer": "ipython3",
   "version": "3.11.1"
  },
  "orig_nbformat": 4,
  "vscode": {
   "interpreter": {
    "hash": "0aedfbc999e64d0944cc241e35d34e477cbfe6dae4aed0684af026f387ae108a"
   }
  }
 },
 "nbformat": 4,
 "nbformat_minor": 2
}
