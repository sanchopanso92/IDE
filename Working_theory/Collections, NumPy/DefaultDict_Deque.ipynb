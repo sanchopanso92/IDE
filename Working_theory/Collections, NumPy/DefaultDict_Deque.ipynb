{
 "cells": [
  {
   "attachments": {},
   "cell_type": "markdown",
   "metadata": {},
   "source": [
    "### Импорт данных из внешнего файла"
   ]
  },
  {
   "cell_type": "code",
   "execution_count": 17,
   "metadata": {},
   "outputs": [
    {
     "name": "stdout",
     "output_type": "stream",
     "text": [
      "Counter({'black': 2, 'yellow': 1, 'white': -1, 'red': -2})\n",
      "Counter({'black': 6, 'white': 5, 'yellow': 5, 'red': 2})\n",
      "Counter({'black': 2, 'yellow': 1})\n"
     ]
    }
   ],
   "source": [
    "from counter_ex import *\n",
    "\n",
    "print(counter_moscow)\n",
    "print(counter_spb_msc)\n",
    "print(counter_dif)"
   ]
  },
  {
   "attachments": {},
   "cell_type": "markdown",
   "metadata": {},
   "source": [
    "### DefaultDict\n",
    "Позволяет задавать по умолчанию тип данных для значений (словарь, множество и тд)"
   ]
  },
  {
   "cell_type": "code",
   "execution_count": 18,
   "metadata": {},
   "outputs": [
    {
     "name": "stdout",
     "output_type": "stream",
     "text": [
      "['Petrov', 'Markov']\n",
      "[]\n",
      "defaultdict(<class 'list'>, {1: ['Ivanov', 'Kuznetsova'], 4: ['Smirnov'], 3: ['Petrov', 'Markov'], 2: ['Nikitina', 'Pavlov'], 2021: []})\n"
     ]
    }
   ],
   "source": [
    "from collections import defaultdict\n",
    "\n",
    "students = [('Ivanov',1),('Smirnov',4),('Petrov',3),('Kuznetsova',1),\n",
    "            ('Nikitina',2),('Markov',3),('Pavlov',2)]\n",
    "student_dict=defaultdict(list)\n",
    "\n",
    "for student, group in students:\n",
    "    student_dict[group].append(student)\n",
    "\n",
    "print(student_dict[3])\n",
    "print(student_dict[2021]) #группы нет в первнчальном сете - defaultdict т.о. формирует пустой список для данного ключа\n",
    "print(student_dict)"
   ]
  },
  {
   "attachments": {},
   "cell_type": "markdown",
   "metadata": {},
   "source": [
    "### ORDERDICT\n",
    "Позволяет сохранять первоначально заданный порядок ключей, тк по умолчанию dict не гарантирует сохранность ключей в том порядке, что они были добавлены в словарь\n",
    "! Но начиная с версии 3.7 просто сам dict гарантрует сохранность порядка ключей\n"
   ]
  },
  {
   "cell_type": "code",
   "execution_count": 19,
   "metadata": {},
   "outputs": [
    {
     "name": "stdout",
     "output_type": "stream",
     "text": [
      "OrderedDict([('Ivan', 19), ('Mark', 25), ('Andrey', 23), ('Maria', 20)])\n"
     ]
    }
   ],
   "source": [
    "from collections import OrderedDict\n",
    "data = [('Ivan', 19),('Mark', 25),('Andrey', 23),('Maria', 20)]\n",
    "ordered_client_ages = OrderedDict(data)\n",
    "print(ordered_client_ages)"
   ]
  },
  {
   "attachments": {},
   "cell_type": "markdown",
   "metadata": {},
   "source": [
    "Отсортируем словарь по ключам по возрастанию:"
   ]
  },
  {
   "cell_type": "code",
   "execution_count": 20,
   "metadata": {},
   "outputs": [
    {
     "name": "stdout",
     "output_type": "stream",
     "text": [
      "OrderedDict([('Ivan', 19), ('Maria', 20), ('Andrey', 23), ('Mark', 25)])\n"
     ]
    }
   ],
   "source": [
    "data = [('Ivan', 19),('Mark', 25),('Andrey', 23),('Maria', 20)]\n",
    "# Сортируем по второму значению из кортежа, то есть по возрасту\n",
    "ordered_client_ages = OrderedDict(sorted(data, key=lambda x: x[1]))\n",
    "print(ordered_client_ages)"
   ]
  },
  {
   "cell_type": "code",
   "execution_count": 21,
   "metadata": {},
   "outputs": [
    {
     "name": "stdout",
     "output_type": "stream",
     "text": [
      "3.11.1 (tags/v3.11.1:a7a450f, Dec  6 2022, 19:58:39) [MSC v.1934 64 bit (AMD64)]\n"
     ]
    }
   ],
   "source": [
    "import sys\n",
    "print(sys.version) #текущая версия"
   ]
  },
  {
   "attachments": {},
   "cell_type": "markdown",
   "metadata": {},
   "source": [
    "### DEQUE\n",
    "Позволяет работать с данными как по типу FIFO (очередь), так и по LIFO (стэк).\n",
    "Основные ф-ции:\n",
    "1. Append/ AppendLeft (добавить в конец очереди/начало)\n",
    "2. POP/PopLeft (удалить и вернуть с конца очереди/начала)"
   ]
  },
  {
   "cell_type": "code",
   "execution_count": 22,
   "metadata": {},
   "outputs": [
    {
     "name": "stdout",
     "output_type": "stream",
     "text": [
      "deque(['Ivanov', 'Petrov', 'Smirnov', 'Tikhonova'])\n",
      "Smirnov\n",
      "First client: Ivanov\n",
      "Second client: Petrov\n",
      "deque(['Smirnov', 'Tikhonova'])\n",
      "deque(['Ivanov', 'Petrov', 'Smirnov', 'Tikhonova'])\n",
      "deque(['Ivanov', 'Petrov', 'Tikhonova'])\n",
      "deque([1, 2, 3, 4, 5])\n",
      "deque([1, 2, 3, 4, 5, 11, 12, 13, 14, 15, 16, 17])\n",
      "deque([], maxlen=3)\n",
      "deque([5, 6, 7], maxlen=3)\n"
     ]
    }
   ],
   "source": [
    "from collections import deque\n",
    "clients = deque()\n",
    "clients.append('Ivanov')\n",
    "clients.append('Petrov')\n",
    "clients.append('Smirnov')\n",
    "clients.append('Tikhonova')\n",
    "print(clients)\n",
    "print(clients[2]) #индексацию по элементам поддерживает\n",
    "\n",
    "first_client = clients.popleft()\n",
    "second_client = clients.popleft()\n",
    " \n",
    "print(\"First client:\", first_client)\n",
    "print(\"Second client:\", second_client)\n",
    "print(clients)\n",
    "\n",
    "clients = deque(['Ivanov', 'Petrov', 'Smirnov', 'Tikhonova'])\n",
    "print(clients)\n",
    "# deque(['Ivanov', 'Petrov', 'Smirnov', 'Tikhonova'])\n",
    "del clients[2] #констркция для удаления по индексу\n",
    "print(clients)\n",
    "\n",
    "shop = deque([1, 2, 3, 4, 5])\n",
    "print(shop)\n",
    "# deque([1, 2, 3, 4, 5])\n",
    "shop.extend([11, 12, 13, 14, 15, 16, 17])\n",
    "print(shop)\n",
    "\n",
    "limited = deque(maxlen=3) #ограничение очереди по длине\n",
    "print(limited)\n",
    " \n",
    "limited_from_list = deque([1,3,4,5,6,7], maxlen=3)\n",
    "print(limited_from_list)"
   ]
  },
  {
   "attachments": {},
   "cell_type": "markdown",
   "metadata": {},
   "source": [
    "Задача: Посчитаем динамику средней температуры с усреднением за каждые последние 7 дней для каждого рассматриваемого дня"
   ]
  },
  {
   "cell_type": "code",
   "execution_count": 23,
   "metadata": {},
   "outputs": [
    {
     "name": "stdout",
     "output_type": "stream",
     "text": [
      "20.77; 21.27; 22.16; 23.3; 24.44; 24.94; 25.56; 26.2; 25.97; 25.94; 25.57; 25.1; 24.81; 24.21; 23.23; 22.57; 21.41; 20.4; 19.6; 19.1; 19.04; 18.96; 19.44; 20.01; 20.67; \n"
     ]
    }
   ],
   "source": [
    "temps = [20.6, 19.4, 19.0, 19.0, 22.1,\n",
    "        22.5, 22.8, 24.1, 25.6, 27.0,\n",
    "        27.0, 25.6, 26.8, 27.3, 22.5,\n",
    "        25.4, 24.4, 23.7, 23.6, 22.6,\n",
    "        20.4, 17.9, 17.3, 17.3, 18.1,\n",
    "        20.1, 22.2, 19.8, 21.3, 21.3,\n",
    "        21.9]\n",
    "\n",
    "days = deque(maxlen=7)\n",
    " \n",
    "for temp in temps:\n",
    "    # Добавляем температуру в очередь\n",
    "    days.append(temp)\n",
    "    # Если длина очереди оказалась равной максимальной длине очереди (7),\n",
    "    # печатаем среднюю температуру за последние 7 дней\n",
    "    if len(days) == days.maxlen:\n",
    "        print(round(sum(days) / len(days), 2), end='; ')\n",
    "# Напечатаем пустую строку, чтобы завершить действие параметра\n",
    "# end. Иначе следующая строка окажется напечатанной на предыдущей\n",
    "print(\"\")"
   ]
  },
  {
   "cell_type": "code",
   "execution_count": 24,
   "metadata": {},
   "outputs": [
    {
     "name": "stdout",
     "output_type": "stream",
     "text": [
      "deque([1, 2, 3, 4, 5])\n",
      "deque([5, 4, 3, 2, 1])\n"
     ]
    }
   ],
   "source": [
    "dq = deque([1,2,3,4,5])\n",
    "print(dq)\n",
    "# deque([1, 2, 3, 4, 5])\n",
    " \n",
    "dq.reverse()\n",
    "print(dq)"
   ]
  },
  {
   "cell_type": "code",
   "execution_count": 25,
   "metadata": {},
   "outputs": [
    {
     "name": "stdout",
     "output_type": "stream",
     "text": [
      "deque([1, 2, 3, 4, 5])\n",
      "deque([4, 5, 1, 2, 3])\n",
      "deque([1, 2, 3, 4, 5])\n"
     ]
    }
   ],
   "source": [
    "dq = deque([1,2,3,4,5])\n",
    "print(dq)\n",
    "# deque([1, 2, 3, 4, 5])\n",
    " \n",
    "dq.rotate(2)\n",
    "print(dq)\n",
    "dq.rotate(-2)\n",
    "print(dq)"
   ]
  },
  {
   "cell_type": "code",
   "execution_count": 26,
   "metadata": {},
   "outputs": [
    {
     "name": "stdout",
     "output_type": "stream",
     "text": [
      "2\n",
      "6\n"
     ]
    }
   ],
   "source": [
    "dq = [1,2,4,2,3,1,5,4,4,4,4,4,3]\n",
    "print(dq.index(4))\n",
    "# 2\n",
    "print(dq.count(4))"
   ]
  },
  {
   "attachments": {},
   "cell_type": "markdown",
   "metadata": {},
   "source": [
    "Задача: Напишите функцию , которая определяет, является ли последовательность из круглых скобок правильной."
   ]
  },
  {
   "cell_type": "code",
   "execution_count": null,
   "metadata": {},
   "outputs": [],
   "source": [
    "from collections import deque\n",
    "\n",
    "def brackets(line):\n",
    "    stack=deque()\n",
    "    \n",
    "    for i in line:\n",
    "        if i==\"(\":\n",
    "            stack.append(i)\n",
    "        if i==\")\":\n",
    "            if len(stack) == 0 or stack.pop()!=\"(\":\n",
    "                return False\n",
    "                break\n",
    "\n",
    "    if len(stack) == 0:\n",
    "        return True\n",
    "    else:\n",
    "        return False\n",
    "    \n",
    "   \n",
    "print(brackets(\"(()))\"))"
   ]
  }
 ],
 "metadata": {
  "kernelspec": {
   "display_name": "Python 3",
   "language": "python",
   "name": "python3"
  },
  "language_info": {
   "codemirror_mode": {
    "name": "ipython",
    "version": 3
   },
   "file_extension": ".py",
   "mimetype": "text/x-python",
   "name": "python",
   "nbconvert_exporter": "python",
   "pygments_lexer": "ipython3",
   "version": "3.11.1 (tags/v3.11.1:a7a450f, Dec  6 2022, 19:58:39) [MSC v.1934 64 bit (AMD64)]"
  },
  "orig_nbformat": 4,
  "vscode": {
   "interpreter": {
    "hash": "0aedfbc999e64d0944cc241e35d34e477cbfe6dae4aed0684af026f387ae108a"
   }
  }
 },
 "nbformat": 4,
 "nbformat_minor": 2
}
